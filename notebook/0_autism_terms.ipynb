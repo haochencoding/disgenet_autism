{
 "cells": [
  {
   "cell_type": "code",
   "execution_count": 1,
   "metadata": {},
   "outputs": [],
   "source": [
    "import pandas as pd\n",
    "import numpy as np"
   ]
  },
  {
   "cell_type": "code",
   "execution_count": 2,
   "metadata": {},
   "outputs": [],
   "source": [
    "# load DisGenet curated raw data\n",
    "df = pd.read_csv(\"../raw_data/curated_gene_disease_associations.tsv\", sep='\\t')"
   ]
  },
  {
   "cell_type": "code",
   "execution_count": 3,
   "metadata": {},
   "outputs": [],
   "source": [
    "# Extract columns for disorders\n",
    "diseases = df[['diseaseId', 'diseaseName']]\n",
    "\n",
    "diseases = diseases.drop_duplicates()"
   ]
  },
  {
   "cell_type": "markdown",
   "metadata": {},
   "source": [
    "# Find disorders for autism"
   ]
  },
  {
   "cell_type": "markdown",
   "metadata": {},
   "source": [
    "## 1. Polygenetic autism spetcrum"
   ]
  },
  {
   "cell_type": "code",
   "execution_count": 4,
   "metadata": {},
   "outputs": [],
   "source": [
    "poly_autism_terms = {}"
   ]
  },
  {
   "cell_type": "markdown",
   "metadata": {},
   "source": [
    "### Autism spectrum"
   ]
  },
  {
   "cell_type": "code",
   "execution_count": 5,
   "metadata": {},
   "outputs": [
    {
     "data": {
      "text/plain": [
       "array([['C0004352', 'Autistic Disorder'],\n",
       "       ['C1510586', 'Autism Spectrum Disorders'],\n",
       "       ['C1854416', 'MACROCEPHALY/AUTISM SYNDROME'],\n",
       "       ['C3275438', 'AUTISM, SUSCEPTIBILITY TO, X-LINKED 5'],\n",
       "       ['C3552491', 'AUTISM, SUSCEPTIBILITY TO, 14A'],\n",
       "       ['C4013764',\n",
       "        'MENTAL RETARDATION WITH LANGUAGE IMPAIRMENT AND WITH OR WITHOUT AUTISTIC FEATURES'],\n",
       "       ['C1845540', 'AUTISM, X-LINKED, SUSCEPTIBILITY TO, 1 (finding)'],\n",
       "       ['C3550875', 'AUTISM, SUSCEPTIBILITY TO, X-LINKED 6'],\n",
       "       ['C3554373', 'AUTISM, SUSCEPTIBILITY TO, 18']], dtype=object)"
      ]
     },
     "execution_count": 5,
     "metadata": {},
     "output_type": "execute_result"
    }
   ],
   "source": [
    "autism_spectrum = diseases[diseases['diseaseName'].str.lower().str.contains('autis')]\n",
    "autism_spectrum.values"
   ]
  },
  {
   "cell_type": "markdown",
   "metadata": {},
   "source": [
    "Delete syndromatic autism or ambiguous disorders\n",
    "- C1854416: MACROCEPHALY/AUTISM SYNDROME\n",
    "- C4013764: MENTAL RETARDATION WITH LANGUAGE IMPAIRMENT AND WITH OR WITHOUT AUTISTIC FEATURES"
   ]
  },
  {
   "cell_type": "code",
   "execution_count": 6,
   "metadata": {},
   "outputs": [],
   "source": [
    "autism_spectrum = autism_spectrum[autism_spectrum['diseaseId'] != \"C1854416\"]\n",
    "autism_spectrum = autism_spectrum[autism_spectrum['diseaseId'] != \"C4013764\"]"
   ]
  },
  {
   "cell_type": "code",
   "execution_count": 7,
   "metadata": {},
   "outputs": [],
   "source": [
    "poly_autism_terms['Autism Spectrum Disorder'] = autism_spectrum"
   ]
  },
  {
   "cell_type": "markdown",
   "metadata": {},
   "source": [
    "### Asperger's syndrome"
   ]
  },
  {
   "cell_type": "code",
   "execution_count": 8,
   "metadata": {},
   "outputs": [
    {
     "data": {
      "text/plain": [
       "array([['C0236792', 'Asperger Syndrome'],\n",
       "       ['C1845341',\n",
       "        'ASPERGER SYNDROME, X-LINKED, SUSCEPTIBILITY TO, 1 (disorder)'],\n",
       "       ['C1845334',\n",
       "        'ASPERGER SYNDROME, X-LINKED, SUSCEPTIBILITY TO, 2 (finding)'],\n",
       "       ['C0004030', 'Aspergillosis']], dtype=object)"
      ]
     },
     "execution_count": 8,
     "metadata": {},
     "output_type": "execute_result"
    }
   ],
   "source": [
    "asperger = diseases[diseases['diseaseName'].str.lower().str.contains('asper')]\n",
    "asperger.values"
   ]
  },
  {
   "cell_type": "code",
   "execution_count": 9,
   "metadata": {},
   "outputs": [
    {
     "data": {
      "text/plain": [
       "array([['C0236792', 'Asperger Syndrome'],\n",
       "       ['C1845341',\n",
       "        'ASPERGER SYNDROME, X-LINKED, SUSCEPTIBILITY TO, 1 (disorder)'],\n",
       "       ['C1845334',\n",
       "        'ASPERGER SYNDROME, X-LINKED, SUSCEPTIBILITY TO, 2 (finding)']],\n",
       "      dtype=object)"
      ]
     },
     "execution_count": 9,
     "metadata": {},
     "output_type": "execute_result"
    }
   ],
   "source": [
    "# delete irrelevant diagnosis\n",
    "asperger = asperger[asperger['diseaseName'] != 'Aspergillosis']\n",
    "asperger.values"
   ]
  },
  {
   "cell_type": "code",
   "execution_count": 10,
   "metadata": {},
   "outputs": [],
   "source": [
    "poly_autism_terms['Asperger Syndrome'] = asperger"
   ]
  },
  {
   "cell_type": "markdown",
   "metadata": {},
   "source": [
    "### Find pervasive developmental disorder"
   ]
  },
  {
   "cell_type": "code",
   "execution_count": 11,
   "metadata": {},
   "outputs": [
    {
     "data": {
      "text/plain": [
       "array([['C0008074', 'Child Development Disorders, Pervasive'],\n",
       "       ['C0524528', 'Pervasive Development Disorder']], dtype=object)"
      ]
     },
     "execution_count": 11,
     "metadata": {},
     "output_type": "execute_result"
    }
   ],
   "source": [
    "pervasive_evelopmental_disorders = diseases[diseases['diseaseName'].str.lower().str.contains('development') & diseases['diseaseName'].str.lower().str.contains('pervasive')]\n",
    "pervasive_evelopmental_disorders.values"
   ]
  },
  {
   "cell_type": "code",
   "execution_count": 12,
   "metadata": {},
   "outputs": [],
   "source": [
    "poly_autism_terms['Pervasive Development Disorder'] = pervasive_evelopmental_disorders"
   ]
  },
  {
   "cell_type": "markdown",
   "metadata": {},
   "source": [
    "### Combine tables"
   ]
  },
  {
   "cell_type": "code",
   "execution_count": 13,
   "metadata": {},
   "outputs": [
    {
     "name": "stderr",
     "output_type": "stream",
     "text": [
      "/var/folders/7n/c_p139yj6jq0tctqpx0x_2rr0000gn/T/ipykernel_3927/611538110.py:2: SettingWithCopyWarning: \n",
      "A value is trying to be set on a copy of a slice from a DataFrame.\n",
      "Try using .loc[row_indexer,col_indexer] = value instead\n",
      "\n",
      "See the caveats in the documentation: https://pandas.pydata.org/pandas-docs/stable/user_guide/indexing.html#returning-a-view-versus-a-copy\n",
      "  df['autism_subtype'] = key\n"
     ]
    }
   ],
   "source": [
    "for key, df in poly_autism_terms.items():\n",
    "    df['autism_subtype'] = key"
   ]
  },
  {
   "cell_type": "code",
   "execution_count": 14,
   "metadata": {},
   "outputs": [
    {
     "data": {
      "text/plain": [
       "array([['C0004352', 'Autistic Disorder', 'Autism Spectrum Disorder'],\n",
       "       ['C1510586', 'Autism Spectrum Disorders',\n",
       "        'Autism Spectrum Disorder'],\n",
       "       ['C3275438', 'AUTISM, SUSCEPTIBILITY TO, X-LINKED 5',\n",
       "        'Autism Spectrum Disorder'],\n",
       "       ['C3552491', 'AUTISM, SUSCEPTIBILITY TO, 14A',\n",
       "        'Autism Spectrum Disorder'],\n",
       "       ['C1845540', 'AUTISM, X-LINKED, SUSCEPTIBILITY TO, 1 (finding)',\n",
       "        'Autism Spectrum Disorder'],\n",
       "       ['C3550875', 'AUTISM, SUSCEPTIBILITY TO, X-LINKED 6',\n",
       "        'Autism Spectrum Disorder'],\n",
       "       ['C3554373', 'AUTISM, SUSCEPTIBILITY TO, 18',\n",
       "        'Autism Spectrum Disorder'],\n",
       "       ['C0236792', 'Asperger Syndrome', 'Asperger Syndrome'],\n",
       "       ['C1845341',\n",
       "        'ASPERGER SYNDROME, X-LINKED, SUSCEPTIBILITY TO, 1 (disorder)',\n",
       "        'Asperger Syndrome'],\n",
       "       ['C1845334',\n",
       "        'ASPERGER SYNDROME, X-LINKED, SUSCEPTIBILITY TO, 2 (finding)',\n",
       "        'Asperger Syndrome'],\n",
       "       ['C0008074', 'Child Development Disorders, Pervasive',\n",
       "        'Pervasive Development Disorder'],\n",
       "       ['C0524528', 'Pervasive Development Disorder',\n",
       "        'Pervasive Development Disorder']], dtype=object)"
      ]
     },
     "execution_count": 14,
     "metadata": {},
     "output_type": "execute_result"
    }
   ],
   "source": [
    "autism_terms = pd.concat(poly_autism_terms.values(), \n",
    "                         ignore_index=True)\n",
    "autism_terms.values"
   ]
  },
  {
   "cell_type": "code",
   "execution_count": 15,
   "metadata": {},
   "outputs": [
    {
     "data": {
      "text/html": [
       "<div>\n",
       "<style scoped>\n",
       "    .dataframe tbody tr th:only-of-type {\n",
       "        vertical-align: middle;\n",
       "    }\n",
       "\n",
       "    .dataframe tbody tr th {\n",
       "        vertical-align: top;\n",
       "    }\n",
       "\n",
       "    .dataframe thead th {\n",
       "        text-align: right;\n",
       "    }\n",
       "</style>\n",
       "<table border=\"1\" class=\"dataframe\">\n",
       "  <thead>\n",
       "    <tr style=\"text-align: right;\">\n",
       "      <th></th>\n",
       "      <th>diseaseId</th>\n",
       "      <th>diseaseName</th>\n",
       "      <th>autism_subtype</th>\n",
       "    </tr>\n",
       "  </thead>\n",
       "  <tbody>\n",
       "    <tr>\n",
       "      <th>0</th>\n",
       "      <td>C0004352</td>\n",
       "      <td>Autistic Disorder</td>\n",
       "      <td>Autism Spectrum Disorder</td>\n",
       "    </tr>\n",
       "    <tr>\n",
       "      <th>1</th>\n",
       "      <td>C1510586</td>\n",
       "      <td>Autism Spectrum Disorders</td>\n",
       "      <td>Autism Spectrum Disorder</td>\n",
       "    </tr>\n",
       "    <tr>\n",
       "      <th>2</th>\n",
       "      <td>C3275438</td>\n",
       "      <td>AUTISM, SUSCEPTIBILITY TO, X-LINKED 5</td>\n",
       "      <td>Autism Spectrum Disorder</td>\n",
       "    </tr>\n",
       "    <tr>\n",
       "      <th>3</th>\n",
       "      <td>C3552491</td>\n",
       "      <td>AUTISM, SUSCEPTIBILITY TO, 14A</td>\n",
       "      <td>Autism Spectrum Disorder</td>\n",
       "    </tr>\n",
       "    <tr>\n",
       "      <th>4</th>\n",
       "      <td>C1845540</td>\n",
       "      <td>AUTISM, X-LINKED, SUSCEPTIBILITY TO, 1 (finding)</td>\n",
       "      <td>Autism Spectrum Disorder</td>\n",
       "    </tr>\n",
       "    <tr>\n",
       "      <th>5</th>\n",
       "      <td>C3550875</td>\n",
       "      <td>AUTISM, SUSCEPTIBILITY TO, X-LINKED 6</td>\n",
       "      <td>Autism Spectrum Disorder</td>\n",
       "    </tr>\n",
       "    <tr>\n",
       "      <th>6</th>\n",
       "      <td>C3554373</td>\n",
       "      <td>AUTISM, SUSCEPTIBILITY TO, 18</td>\n",
       "      <td>Autism Spectrum Disorder</td>\n",
       "    </tr>\n",
       "    <tr>\n",
       "      <th>7</th>\n",
       "      <td>C0236792</td>\n",
       "      <td>Asperger Syndrome</td>\n",
       "      <td>Autism Spectrum Disorder</td>\n",
       "    </tr>\n",
       "    <tr>\n",
       "      <th>8</th>\n",
       "      <td>C1845341</td>\n",
       "      <td>ASPERGER SYNDROME, X-LINKED, SUSCEPTIBILITY TO...</td>\n",
       "      <td>Autism Spectrum Disorder</td>\n",
       "    </tr>\n",
       "    <tr>\n",
       "      <th>9</th>\n",
       "      <td>C1845334</td>\n",
       "      <td>ASPERGER SYNDROME, X-LINKED, SUSCEPTIBILITY TO...</td>\n",
       "      <td>Autism Spectrum Disorder</td>\n",
       "    </tr>\n",
       "    <tr>\n",
       "      <th>10</th>\n",
       "      <td>C0008074</td>\n",
       "      <td>Child Development Disorders, Pervasive</td>\n",
       "      <td>Autism Spectrum Disorder</td>\n",
       "    </tr>\n",
       "    <tr>\n",
       "      <th>11</th>\n",
       "      <td>C0524528</td>\n",
       "      <td>Pervasive Development Disorder</td>\n",
       "      <td>Autism Spectrum Disorder</td>\n",
       "    </tr>\n",
       "  </tbody>\n",
       "</table>\n",
       "</div>"
      ],
      "text/plain": [
       "   diseaseId                                        diseaseName  \\\n",
       "0   C0004352                                  Autistic Disorder   \n",
       "1   C1510586                          Autism Spectrum Disorders   \n",
       "2   C3275438              AUTISM, SUSCEPTIBILITY TO, X-LINKED 5   \n",
       "3   C3552491                     AUTISM, SUSCEPTIBILITY TO, 14A   \n",
       "4   C1845540   AUTISM, X-LINKED, SUSCEPTIBILITY TO, 1 (finding)   \n",
       "5   C3550875              AUTISM, SUSCEPTIBILITY TO, X-LINKED 6   \n",
       "6   C3554373                      AUTISM, SUSCEPTIBILITY TO, 18   \n",
       "7   C0236792                                  Asperger Syndrome   \n",
       "8   C1845341  ASPERGER SYNDROME, X-LINKED, SUSCEPTIBILITY TO...   \n",
       "9   C1845334  ASPERGER SYNDROME, X-LINKED, SUSCEPTIBILITY TO...   \n",
       "10  C0008074             Child Development Disorders, Pervasive   \n",
       "11  C0524528                     Pervasive Development Disorder   \n",
       "\n",
       "              autism_subtype  \n",
       "0   Autism Spectrum Disorder  \n",
       "1   Autism Spectrum Disorder  \n",
       "2   Autism Spectrum Disorder  \n",
       "3   Autism Spectrum Disorder  \n",
       "4   Autism Spectrum Disorder  \n",
       "5   Autism Spectrum Disorder  \n",
       "6   Autism Spectrum Disorder  \n",
       "7   Autism Spectrum Disorder  \n",
       "8   Autism Spectrum Disorder  \n",
       "9   Autism Spectrum Disorder  \n",
       "10  Autism Spectrum Disorder  \n",
       "11  Autism Spectrum Disorder  "
      ]
     },
     "execution_count": 15,
     "metadata": {},
     "output_type": "execute_result"
    }
   ],
   "source": [
    "autism_terms['autism_subtype'] = 'Autism Spectrum Disorder'\n",
    "autism_terms"
   ]
  },
  {
   "cell_type": "code",
   "execution_count": 16,
   "metadata": {},
   "outputs": [],
   "source": [
    "autism_terms['autism_subtype_broad'] = 'Non-Syndromic Autism'"
   ]
  },
  {
   "cell_type": "markdown",
   "metadata": {},
   "source": [
    "## 2. Syndromic ASD"
   ]
  },
  {
   "cell_type": "code",
   "execution_count": 17,
   "metadata": {},
   "outputs": [],
   "source": [
    "autism_syndromes = {}"
   ]
  },
  {
   "cell_type": "markdown",
   "metadata": {},
   "source": [
    "### Childhood disintegrative disorder, aka, Heller syndrome"
   ]
  },
  {
   "cell_type": "code",
   "execution_count": 18,
   "metadata": {},
   "outputs": [
    {
     "data": {
      "text/plain": [
       "array([], shape=(0, 2), dtype=object)"
      ]
     },
     "execution_count": 18,
     "metadata": {},
     "output_type": "execute_result"
    }
   ],
   "source": [
    "hellers_syndrome = diseases[\n",
    "    (diseases['diseaseName'].str.lower().str.contains('disintegrat') & diseases['diseaseName'].str.lower().str.contains('disorder')) |\n",
    "    (diseases['diseaseName'].str.lower().str.contains('heller')) |\n",
    "    (diseases['diseaseName'].str.lower().str.contains('cdd'))\n",
    "]\n",
    "\n",
    "hellers_syndrome.values"
   ]
  },
  {
   "cell_type": "code",
   "execution_count": 19,
   "metadata": {},
   "outputs": [],
   "source": [
    "autism_syndromes['Heller Syndrome'] = hellers_syndrome"
   ]
  },
  {
   "cell_type": "markdown",
   "metadata": {},
   "source": [
    "### Rett Syndrome - finally decided not to add"
   ]
  },
  {
   "cell_type": "code",
   "execution_count": 20,
   "metadata": {},
   "outputs": [
    {
     "data": {
      "text/plain": [
       "array([['C0035372', 'Rett Syndrome'],\n",
       "       ['C2748910', 'Rett Syndrome, Atypical'],\n",
       "       ['C1839332', 'Rett Syndrome, Preserved Speech Variant'],\n",
       "       ['C2677682', 'Rett Syndrome, Zappella Variant'],\n",
       "       ['C4014821', 'PORETTI-BOLTSHAUSER SYNDROME']], dtype=object)"
      ]
     },
     "execution_count": 20,
     "metadata": {},
     "output_type": "execute_result"
    }
   ],
   "source": [
    "rett_syndrome = diseases[\n",
    "    (diseases['diseaseName'].str.lower().str.contains('rett') & diseases['diseaseName'].str.lower().str.contains('syndrome')) &\n",
    "    ~diseases['diseaseName'].isin(['Gilles de la Tourette syndrome', 'Baraitser Brett Piesowicz syndrome'])\n",
    "]\n",
    "\n",
    "rett_syndrome.values"
   ]
  },
  {
   "cell_type": "code",
   "execution_count": 21,
   "metadata": {},
   "outputs": [],
   "source": [
    "autism_syndromes[\"Rett Syndrome\"] = rett_syndrome"
   ]
  },
  {
   "cell_type": "markdown",
   "metadata": {},
   "source": [
    "### Fragile X syndrome"
   ]
  },
  {
   "cell_type": "code",
   "execution_count": 22,
   "metadata": {},
   "outputs": [
    {
     "data": {
      "text/plain": [
       "array([['C0016667', 'Fragile X Syndrome'],\n",
       "       ['C1839780', 'FRAGILE X TREMOR/ATAXIA SYNDROME']], dtype=object)"
      ]
     },
     "execution_count": 22,
     "metadata": {},
     "output_type": "execute_result"
    }
   ],
   "source": [
    "fragile_x = diseases[\n",
    "    (diseases['diseaseName'].str.lower().str.contains('fragile') & diseases['diseaseName'].str.lower().str.contains('x'))\n",
    "]\n",
    "\n",
    "fragile_x.values"
   ]
  },
  {
   "cell_type": "code",
   "execution_count": 23,
   "metadata": {},
   "outputs": [],
   "source": [
    "autism_syndromes['Fragile X Syndrome'] = fragile_x"
   ]
  },
  {
   "cell_type": "markdown",
   "metadata": {},
   "source": [
    "### MECP2 duplication syndrome"
   ]
  },
  {
   "cell_type": "code",
   "execution_count": 24,
   "metadata": {},
   "outputs": [
    {
     "data": {
      "text/plain": [
       "array([['C1968556',\n",
       "        'ENCEPHALOPATHY, NEONATAL SEVERE, DUE TO MECP2 MUTATIONS']],\n",
       "      dtype=object)"
      ]
     },
     "execution_count": 24,
     "metadata": {},
     "output_type": "execute_result"
    }
   ],
   "source": [
    "mecp2 = diseases[\n",
    "    diseases['diseaseName'].str.lower().str.contains('mecp2')\n",
    "]\n",
    "\n",
    "mecp2.values"
   ]
  },
  {
   "cell_type": "code",
   "execution_count": 25,
   "metadata": {},
   "outputs": [],
   "source": [
    "autism_syndromes['MECP2 duplication Syndrome'] = mecp2"
   ]
  },
  {
   "cell_type": "markdown",
   "metadata": {},
   "source": [
    "### Tuberous sclerosis complex"
   ]
  },
  {
   "cell_type": "code",
   "execution_count": 26,
   "metadata": {},
   "outputs": [
    {
     "data": {
      "text/plain": [
       "array([['C0041341', 'Tuberous Sclerosis'],\n",
       "       ['C0265319', 'Fibrous skin tumor of tuberous sclerosis'],\n",
       "       ['C1860707', 'TUBEROUS SCLEROSIS 2 (disorder)'],\n",
       "       ['C1838327',\n",
       "        'Polycystic kidneys, severe infantile with tuberous sclerosis'],\n",
       "       ['C1854465', 'TUBEROUS SCLEROSIS 1 (disorder)']], dtype=object)"
      ]
     },
     "execution_count": 26,
     "metadata": {},
     "output_type": "execute_result"
    }
   ],
   "source": [
    "ts = diseases[\n",
    "    (diseases['diseaseName'].str.lower().str.contains('tuberous')) & (diseases['diseaseName'].str.lower().str.contains('sclerosis'))\n",
    "]\n",
    "\n",
    "ts.values"
   ]
  },
  {
   "cell_type": "code",
   "execution_count": 27,
   "metadata": {},
   "outputs": [],
   "source": [
    "autism_syndromes['Tuberous Sclerosis Complex'] = ts"
   ]
  },
  {
   "cell_type": "markdown",
   "metadata": {},
   "source": [
    "### Angelman's syndrome"
   ]
  },
  {
   "cell_type": "code",
   "execution_count": 28,
   "metadata": {},
   "outputs": [
    {
     "data": {
      "text/plain": [
       "array([['C0162635', 'Angelman Syndrome']], dtype=object)"
      ]
     },
     "execution_count": 28,
     "metadata": {},
     "output_type": "execute_result"
    }
   ],
   "source": [
    "angelman = diseases[\n",
    "    diseases['diseaseName'].str.lower().str.contains('angelman')\n",
    "]\n",
    "\n",
    "angelman.values"
   ]
  },
  {
   "cell_type": "code",
   "execution_count": 29,
   "metadata": {},
   "outputs": [],
   "source": [
    "autism_syndromes['Angelman Syndrome']=angelman"
   ]
  },
  {
   "cell_type": "markdown",
   "metadata": {},
   "source": [
    "### phelan-mcdermid syndrome: not found"
   ]
  },
  {
   "cell_type": "code",
   "execution_count": 30,
   "metadata": {},
   "outputs": [
    {
     "data": {
      "text/plain": [
       "array([], shape=(0, 2), dtype=object)"
      ]
     },
     "execution_count": 30,
     "metadata": {},
     "output_type": "execute_result"
    }
   ],
   "source": [
    "pm = diseases[\n",
    "    (diseases['diseaseName'].str.lower().str.contains('phelan')) & (diseases['diseaseName'].str.lower().str.contains('pms'))\n",
    "]\n",
    "\n",
    "pm.values"
   ]
  },
  {
   "cell_type": "code",
   "execution_count": 31,
   "metadata": {},
   "outputs": [],
   "source": [
    "autism_syndromes['Phelan-Mcdermid Syndrome']=pm"
   ]
  },
  {
   "cell_type": "markdown",
   "metadata": {},
   "source": [
    "### Timothy syndrome"
   ]
  },
  {
   "cell_type": "code",
   "execution_count": 32,
   "metadata": {},
   "outputs": [
    {
     "data": {
      "text/plain": [
       "array([['C1832916', 'Timothy syndrome']], dtype=object)"
      ]
     },
     "execution_count": 32,
     "metadata": {},
     "output_type": "execute_result"
    }
   ],
   "source": [
    "timothy = diseases[\n",
    "    diseases['diseaseName'].str.lower().str.contains('timothy')\n",
    "]\n",
    "\n",
    "timothy.values"
   ]
  },
  {
   "cell_type": "code",
   "execution_count": 33,
   "metadata": {},
   "outputs": [],
   "source": [
    "autism_syndromes['Timothy Syndrome']=timothy"
   ]
  },
  {
   "cell_type": "markdown",
   "metadata": {},
   "source": [
    "### Smith-lemli-opitz syndrome"
   ]
  },
  {
   "cell_type": "code",
   "execution_count": 34,
   "metadata": {},
   "outputs": [
    {
     "data": {
      "text/plain": [
       "array([['C0175694', 'Smith-Lemli-Opitz Syndrome'],\n",
       "       ['C0282643', 'Smith-Lemli-Opitz Syndrome, Type I'],\n",
       "       ['C0282644', 'Smith-Lemli-Opitz Syndrome, Type II']], dtype=object)"
      ]
     },
     "execution_count": 34,
     "metadata": {},
     "output_type": "execute_result"
    }
   ],
   "source": [
    "slo = diseases[\n",
    "    (diseases['diseaseName'].str.lower().str.contains('smith')) & (diseases['diseaseName'].str.lower().str.contains('lemli'))\n",
    "]\n",
    "\n",
    "slo.values"
   ]
  },
  {
   "cell_type": "code",
   "execution_count": 35,
   "metadata": {},
   "outputs": [],
   "source": [
    "autism_syndromes['Smith-Lemli-Opitz Syndrome']=slo"
   ]
  },
  {
   "cell_type": "markdown",
   "metadata": {},
   "source": [
    "### neurofibromatosis "
   ]
  },
  {
   "cell_type": "code",
   "execution_count": 36,
   "metadata": {},
   "outputs": [
    {
     "data": {
      "text/plain": [
       "array([['C0027831', 'Neurofibromatosis 1'],\n",
       "       ['C0917817', 'Neurofibromatosis 3'],\n",
       "       ['C1834235', 'NEUROFIBROMATOSIS, FAMILIAL SPINAL'],\n",
       "       ['C2931482', 'Neurofibromatosis-Noonan syndrome'],\n",
       "       ['C0027832', 'Neurofibromatosis 2'],\n",
       "       ['C2931480',\n",
       "        'Neurofibromatosis, Type 3, mixed central and peripheral'],\n",
       "       ['C1969623', 'NEUROFIBROMATOSIS, TYPE 1-LIKE SYNDROME']],\n",
       "      dtype=object)"
      ]
     },
     "execution_count": 36,
     "metadata": {},
     "output_type": "execute_result"
    }
   ],
   "source": [
    "neurofibromatosis = diseases[\n",
    "    diseases['diseaseName'].str.lower().str.contains('neurofibromatosis')\n",
    "]\n",
    "\n",
    "neurofibromatosis.values"
   ]
  },
  {
   "cell_type": "markdown",
   "metadata": {},
   "source": [
    "Delete ambiguous disorder, as it should be labeled as Nooan syndrome in this dataset\n",
    "- 'C2931482': 'Neurofibromatosis-Noonan syndrome'"
   ]
  },
  {
   "cell_type": "code",
   "execution_count": 37,
   "metadata": {},
   "outputs": [
    {
     "data": {
      "text/plain": [
       "array([['C0027831', 'Neurofibromatosis 1'],\n",
       "       ['C0917817', 'Neurofibromatosis 3'],\n",
       "       ['C1834235', 'NEUROFIBROMATOSIS, FAMILIAL SPINAL'],\n",
       "       ['C0027832', 'Neurofibromatosis 2'],\n",
       "       ['C2931480',\n",
       "        'Neurofibromatosis, Type 3, mixed central and peripheral'],\n",
       "       ['C1969623', 'NEUROFIBROMATOSIS, TYPE 1-LIKE SYNDROME']],\n",
       "      dtype=object)"
      ]
     },
     "execution_count": 37,
     "metadata": {},
     "output_type": "execute_result"
    }
   ],
   "source": [
    "neurofibromatosis = neurofibromatosis[neurofibromatosis['diseaseId'] != 'C2931482']\n",
    "neurofibromatosis.values"
   ]
  },
  {
   "cell_type": "code",
   "execution_count": 38,
   "metadata": {},
   "outputs": [],
   "source": [
    "autism_syndromes['Neurofibromatosis']=neurofibromatosis"
   ]
  },
  {
   "cell_type": "markdown",
   "metadata": {},
   "source": [
    "### PTEN hamartoma tumor syndrome"
   ]
  },
  {
   "cell_type": "code",
   "execution_count": 39,
   "metadata": {},
   "outputs": [
    {
     "data": {
      "text/plain": [
       "array([['C0018553', 'Hamartoma Syndrome, Multiple'],\n",
       "       ['C1959582', 'PTEN Hamartoma Tumor Syndrome']], dtype=object)"
      ]
     },
     "execution_count": 39,
     "metadata": {},
     "output_type": "execute_result"
    }
   ],
   "source": [
    "hamartoma = diseases[\n",
    "    (diseases['diseaseName'].str.lower().str.contains('hamartoma')) & diseases['diseaseName'].str.lower().str.contains('syndrome')\n",
    "]\n",
    "\n",
    "hamartoma.values"
   ]
  },
  {
   "cell_type": "code",
   "execution_count": 40,
   "metadata": {},
   "outputs": [],
   "source": [
    "autism_syndromes['Hamartoma tumor Syndrome']=hamartoma"
   ]
  },
  {
   "cell_type": "markdown",
   "metadata": {},
   "source": [
    "### Down syndrome"
   ]
  },
  {
   "cell_type": "code",
   "execution_count": 41,
   "metadata": {},
   "outputs": [
    {
     "data": {
      "text/plain": [
       "array([['C0013080', 'Down Syndrome'],\n",
       "       ['C0432416', 'Down Syndrome, Partial Trisomy 21'],\n",
       "       ['C1860789', 'Leukemia, Megakaryoblastic, of Down Syndrome'],\n",
       "       ['C1860788',\n",
       "        'Transient Myeloproliferative Disorder of Down Syndrome'],\n",
       "       ['C1832812',\n",
       "        'Cataracts, Congenital, with Sensorineural Deafness, Down Syndrome-Like Facial Appearance, Short Stature, and Mental Retardation']],\n",
       "      dtype=object)"
      ]
     },
     "execution_count": 41,
     "metadata": {},
     "output_type": "execute_result"
    }
   ],
   "source": [
    "down = diseases[\n",
    "    (diseases['diseaseName'].str.lower().str.contains('down')) & diseases['diseaseName'].str.lower().str.contains('syndrome')\n",
    "]\n",
    "\n",
    "down.values"
   ]
  },
  {
   "cell_type": "code",
   "execution_count": 42,
   "metadata": {},
   "outputs": [],
   "source": [
    "autism_syndromes['Down Syndrome']=down"
   ]
  },
  {
   "cell_type": "markdown",
   "metadata": {},
   "source": [
    "### Cohen's syndrome"
   ]
  },
  {
   "cell_type": "code",
   "execution_count": 43,
   "metadata": {},
   "outputs": [
    {
     "data": {
      "text/plain": [
       "array([['C4479654', 'COHEN-GIBSON SYNDROME'],\n",
       "       ['C0265223', 'Cohen syndrome']], dtype=object)"
      ]
     },
     "execution_count": 43,
     "metadata": {},
     "output_type": "execute_result"
    }
   ],
   "source": [
    "cohen = diseases[\n",
    "    (\n",
    "        (diseases['diseaseName'].str.lower().str.contains('cohen')) | \n",
    "        (diseases['diseaseName'].str.lower().str.contains('pepper')) |\n",
    "        (diseases['diseaseName'].str.lower().str.contains('cervenka'))\n",
    "    ) & \n",
    "    (\n",
    "        diseases['diseaseName'].str.lower().str.contains('syndrome')\n",
    "    )\n",
    "\n",
    "]\n",
    "\n",
    "cohen.values"
   ]
  },
  {
   "cell_type": "code",
   "execution_count": 44,
   "metadata": {},
   "outputs": [],
   "source": [
    "autism_syndromes['Cohen Syndrome']=cohen"
   ]
  },
  {
   "cell_type": "markdown",
   "metadata": {},
   "source": [
    "### Cornelia de lange syndrome"
   ]
  },
  {
   "cell_type": "code",
   "execution_count": 45,
   "metadata": {},
   "outputs": [
    {
     "data": {
      "text/plain": [
       "array([['C0270972', 'Cornelia De Lange Syndrome'],\n",
       "       ['C1853099', 'Cornelia de Lange Syndrome 3'],\n",
       "       ['C3553517', 'CORNELIA DE LANGE SYNDROME 4'],\n",
       "       ['C3550903', 'CORNELIA DE LANGE SYNDROME 5']], dtype=object)"
      ]
     },
     "execution_count": 45,
     "metadata": {},
     "output_type": "execute_result"
    }
   ],
   "source": [
    "cornelia = diseases[\n",
    "    (\n",
    "        (diseases['diseaseName'].str.lower().str.contains('cornelia')) | \n",
    "        (diseases['diseaseName'].str.lower().str.contains('brachmann')) |\n",
    "        (diseases['diseaseName'].str.lower().str.contains('bushy'))\n",
    "    ) & \n",
    "    (\n",
    "        (diseases['diseaseName'].str.lower().str.contains('syndrome')) |\n",
    "        (diseases['diseaseName'].str.lower().str.contains('dwarf'))\n",
    "    )\n",
    "]\n",
    "\n",
    "\n",
    "cornelia.values"
   ]
  },
  {
   "cell_type": "code",
   "execution_count": 46,
   "metadata": {},
   "outputs": [],
   "source": [
    "autism_syndromes['Cornelia de Lange Syndrome']=cornelia"
   ]
  },
  {
   "cell_type": "markdown",
   "metadata": {},
   "source": [
    "### Charge syndrome"
   ]
  },
  {
   "cell_type": "code",
   "execution_count": 47,
   "metadata": {},
   "outputs": [
    {
     "data": {
      "text/plain": [
       "array([['C0265354', 'CHARGE Syndrome'],\n",
       "       ['C2936502', 'Familial CHARGE Syndrome']], dtype=object)"
      ]
     },
     "execution_count": 47,
     "metadata": {},
     "output_type": "execute_result"
    }
   ],
   "source": [
    "charge = diseases[\n",
    "    (diseases['diseaseName'].str.lower().str.contains('charge')) & \n",
    "    ~(diseases['diseaseName'].str.lower().str.contains('discharge')) \n",
    "]\n",
    "\n",
    "\n",
    "charge.values"
   ]
  },
  {
   "cell_type": "code",
   "execution_count": 48,
   "metadata": {},
   "outputs": [],
   "source": [
    "autism_syndromes['Charge Syndrome']=charge"
   ]
  },
  {
   "cell_type": "markdown",
   "metadata": {},
   "source": [
    "### Noonan syndrome"
   ]
  },
  {
   "cell_type": "code",
   "execution_count": 49,
   "metadata": {},
   "outputs": [
    {
     "data": {
      "text/plain": [
       "array([['C0028326', 'Noonan Syndrome'],\n",
       "       ['C3150970', 'NOONAN SYNDROME 7'],\n",
       "       ['C3150803',\n",
       "        'NOONAN SYNDROME-LIKE DISORDER WITH OR WITHOUT JUVENILE MYELOMONOCYTIC LEUKEMIA'],\n",
       "       ['C1860991', 'NOONAN SYNDROME 3'],\n",
       "       ['C0036069', 'Saldino-Noonan Syndrome'],\n",
       "       ['C2931482', 'Neurofibromatosis-Noonan syndrome'],\n",
       "       ['C2750732', 'Noonan Syndrome 6'],\n",
       "       ['C4479577',\n",
       "        'NOONAN SYNDROME-LIKE DISORDER WITH LOOSE ANAGEN HAIR 2'],\n",
       "       ['C1969057', 'Noonan Syndrome 5'],\n",
       "       ['C3809233', 'NOONAN SYNDROME 8'],\n",
       "       ['C1853120', 'Noonan Syndrome 4'],\n",
       "       ['C4225282', 'NOONAN SYNDROME 9'],\n",
       "       ['C1843181',\n",
       "        'Noonan syndrome-like disorder with loose anagen hair'],\n",
       "       ['C3501846', 'Noonan-Like Syndrome With Loose Anagen Hair'],\n",
       "       ['C4478716',\n",
       "        'NOONAN SYNDROME-LIKE DISORDER WITH LOOSE ANAGEN HAIR 1'],\n",
       "       ['C4225280', 'NOONAN SYNDROME 10']], dtype=object)"
      ]
     },
     "execution_count": 49,
     "metadata": {},
     "output_type": "execute_result"
    }
   ],
   "source": [
    "noonan = diseases[\n",
    "    (diseases['diseaseName'].str.lower().str.contains('noonan')) & \n",
    "    (diseases['diseaseName'].str.lower().str.contains('syndrome')) \n",
    "]\n",
    "\n",
    "noonan.values"
   ]
  },
  {
   "cell_type": "code",
   "execution_count": 50,
   "metadata": {},
   "outputs": [],
   "source": [
    "autism_syndromes['Noonan Syndrome']=noonan"
   ]
  },
  {
   "cell_type": "markdown",
   "metadata": {},
   "source": [
    "Find Williams syndrome"
   ]
  },
  {
   "cell_type": "code",
   "execution_count": 51,
   "metadata": {},
   "outputs": [
    {
     "data": {
      "text/plain": [
       "array([['C0175702', 'Williams Syndrome']], dtype=object)"
      ]
     },
     "execution_count": 51,
     "metadata": {},
     "output_type": "execute_result"
    }
   ],
   "source": [
    "william = diseases[\n",
    "    (\n",
    "        (diseases['diseaseName'].str.lower().str.contains('william')) & \n",
    "        (diseases['diseaseName'].str.lower().str.contains('syndrome'))\n",
    "    ) | (\n",
    "        (diseases['diseaseName'].str.lower().str.contains('7q11')) & \n",
    "        (diseases['diseaseName'].str.lower().str.contains('deletion'))\n",
    "    )\n",
    "]\n",
    "\n",
    "william.values"
   ]
  },
  {
   "cell_type": "code",
   "execution_count": 52,
   "metadata": {},
   "outputs": [],
   "source": [
    "autism_syndromes['William Syndrome']=william"
   ]
  },
  {
   "cell_type": "markdown",
   "metadata": {},
   "source": [
    "### DiGeorge or 22q11.2 deletion syndrome"
   ]
  },
  {
   "cell_type": "code",
   "execution_count": 53,
   "metadata": {},
   "outputs": [
    {
     "data": {
      "text/plain": [
       "array([['C0012236', 'DiGeorge Syndrome'],\n",
       "       ['C2936346', '22q11 Deletion Syndrome'],\n",
       "       ['C2678480', 'Chromosome 22q11.2 Deletion Syndrome, Distal']],\n",
       "      dtype=object)"
      ]
     },
     "execution_count": 53,
     "metadata": {},
     "output_type": "execute_result"
    }
   ],
   "source": [
    "digeorge = diseases[\n",
    "    (\n",
    "        (diseases['diseaseName'].str.lower().str.contains('digeorge')) & \n",
    "        (diseases['diseaseName'].str.lower().str.contains('syndrome'))\n",
    "    ) | (\n",
    "        (diseases['diseaseName'].str.lower().str.contains('22q11')) & \n",
    "        (diseases['diseaseName'].str.lower().str.contains('deletion'))\n",
    "    )\n",
    "]\n",
    "\n",
    "digeorge.values"
   ]
  },
  {
   "cell_type": "code",
   "execution_count": 54,
   "metadata": {},
   "outputs": [],
   "source": [
    "autism_syndromes['Digeorge Syndrome']=digeorge"
   ]
  },
  {
   "cell_type": "markdown",
   "metadata": {},
   "source": [
    "### Macrocephaly/autism syndrome "
   ]
  },
  {
   "cell_type": "code",
   "execution_count": 55,
   "metadata": {},
   "outputs": [
    {
     "data": {
      "text/plain": [
       "array([['C1854416', 'MACROCEPHALY/AUTISM SYNDROME']], dtype=object)"
      ]
     },
     "execution_count": 55,
     "metadata": {},
     "output_type": "execute_result"
    }
   ],
   "source": [
    "macrocephaly = diseases[diseases['diseaseName'].str.upper().str.contains('MACROCEPHALY/AUTISM SYNDROME')]\n",
    "\n",
    "macrocephaly.values"
   ]
  },
  {
   "cell_type": "code",
   "execution_count": 56,
   "metadata": {},
   "outputs": [],
   "source": [
    "autism_syndromes['Macrocephaly/Autism Syndrome ']=macrocephaly"
   ]
  },
  {
   "cell_type": "markdown",
   "metadata": {},
   "source": [
    "#### Combine syndromic autism"
   ]
  },
  {
   "cell_type": "code",
   "execution_count": 57,
   "metadata": {},
   "outputs": [
    {
     "name": "stderr",
     "output_type": "stream",
     "text": [
      "/var/folders/7n/c_p139yj6jq0tctqpx0x_2rr0000gn/T/ipykernel_3927/2488143036.py:2: SettingWithCopyWarning: \n",
      "A value is trying to be set on a copy of a slice from a DataFrame.\n",
      "Try using .loc[row_indexer,col_indexer] = value instead\n",
      "\n",
      "See the caveats in the documentation: https://pandas.pydata.org/pandas-docs/stable/user_guide/indexing.html#returning-a-view-versus-a-copy\n",
      "  df['autism_subtype'] = key\n",
      "/var/folders/7n/c_p139yj6jq0tctqpx0x_2rr0000gn/T/ipykernel_3927/2488143036.py:2: SettingWithCopyWarning: \n",
      "A value is trying to be set on a copy of a slice from a DataFrame.\n",
      "Try using .loc[row_indexer,col_indexer] = value instead\n",
      "\n",
      "See the caveats in the documentation: https://pandas.pydata.org/pandas-docs/stable/user_guide/indexing.html#returning-a-view-versus-a-copy\n",
      "  df['autism_subtype'] = key\n",
      "/var/folders/7n/c_p139yj6jq0tctqpx0x_2rr0000gn/T/ipykernel_3927/2488143036.py:2: SettingWithCopyWarning: \n",
      "A value is trying to be set on a copy of a slice from a DataFrame.\n",
      "Try using .loc[row_indexer,col_indexer] = value instead\n",
      "\n",
      "See the caveats in the documentation: https://pandas.pydata.org/pandas-docs/stable/user_guide/indexing.html#returning-a-view-versus-a-copy\n",
      "  df['autism_subtype'] = key\n",
      "/var/folders/7n/c_p139yj6jq0tctqpx0x_2rr0000gn/T/ipykernel_3927/2488143036.py:2: SettingWithCopyWarning: \n",
      "A value is trying to be set on a copy of a slice from a DataFrame.\n",
      "Try using .loc[row_indexer,col_indexer] = value instead\n",
      "\n",
      "See the caveats in the documentation: https://pandas.pydata.org/pandas-docs/stable/user_guide/indexing.html#returning-a-view-versus-a-copy\n",
      "  df['autism_subtype'] = key\n",
      "/var/folders/7n/c_p139yj6jq0tctqpx0x_2rr0000gn/T/ipykernel_3927/2488143036.py:2: SettingWithCopyWarning: \n",
      "A value is trying to be set on a copy of a slice from a DataFrame.\n",
      "Try using .loc[row_indexer,col_indexer] = value instead\n",
      "\n",
      "See the caveats in the documentation: https://pandas.pydata.org/pandas-docs/stable/user_guide/indexing.html#returning-a-view-versus-a-copy\n",
      "  df['autism_subtype'] = key\n",
      "/var/folders/7n/c_p139yj6jq0tctqpx0x_2rr0000gn/T/ipykernel_3927/2488143036.py:2: SettingWithCopyWarning: \n",
      "A value is trying to be set on a copy of a slice from a DataFrame.\n",
      "Try using .loc[row_indexer,col_indexer] = value instead\n",
      "\n",
      "See the caveats in the documentation: https://pandas.pydata.org/pandas-docs/stable/user_guide/indexing.html#returning-a-view-versus-a-copy\n",
      "  df['autism_subtype'] = key\n",
      "/var/folders/7n/c_p139yj6jq0tctqpx0x_2rr0000gn/T/ipykernel_3927/2488143036.py:2: SettingWithCopyWarning: \n",
      "A value is trying to be set on a copy of a slice from a DataFrame.\n",
      "Try using .loc[row_indexer,col_indexer] = value instead\n",
      "\n",
      "See the caveats in the documentation: https://pandas.pydata.org/pandas-docs/stable/user_guide/indexing.html#returning-a-view-versus-a-copy\n",
      "  df['autism_subtype'] = key\n",
      "/var/folders/7n/c_p139yj6jq0tctqpx0x_2rr0000gn/T/ipykernel_3927/2488143036.py:2: SettingWithCopyWarning: \n",
      "A value is trying to be set on a copy of a slice from a DataFrame.\n",
      "Try using .loc[row_indexer,col_indexer] = value instead\n",
      "\n",
      "See the caveats in the documentation: https://pandas.pydata.org/pandas-docs/stable/user_guide/indexing.html#returning-a-view-versus-a-copy\n",
      "  df['autism_subtype'] = key\n",
      "/var/folders/7n/c_p139yj6jq0tctqpx0x_2rr0000gn/T/ipykernel_3927/2488143036.py:2: SettingWithCopyWarning: \n",
      "A value is trying to be set on a copy of a slice from a DataFrame.\n",
      "Try using .loc[row_indexer,col_indexer] = value instead\n",
      "\n",
      "See the caveats in the documentation: https://pandas.pydata.org/pandas-docs/stable/user_guide/indexing.html#returning-a-view-versus-a-copy\n",
      "  df['autism_subtype'] = key\n",
      "/var/folders/7n/c_p139yj6jq0tctqpx0x_2rr0000gn/T/ipykernel_3927/2488143036.py:2: SettingWithCopyWarning: \n",
      "A value is trying to be set on a copy of a slice from a DataFrame.\n",
      "Try using .loc[row_indexer,col_indexer] = value instead\n",
      "\n",
      "See the caveats in the documentation: https://pandas.pydata.org/pandas-docs/stable/user_guide/indexing.html#returning-a-view-versus-a-copy\n",
      "  df['autism_subtype'] = key\n",
      "/var/folders/7n/c_p139yj6jq0tctqpx0x_2rr0000gn/T/ipykernel_3927/2488143036.py:2: SettingWithCopyWarning: \n",
      "A value is trying to be set on a copy of a slice from a DataFrame.\n",
      "Try using .loc[row_indexer,col_indexer] = value instead\n",
      "\n",
      "See the caveats in the documentation: https://pandas.pydata.org/pandas-docs/stable/user_guide/indexing.html#returning-a-view-versus-a-copy\n",
      "  df['autism_subtype'] = key\n",
      "/var/folders/7n/c_p139yj6jq0tctqpx0x_2rr0000gn/T/ipykernel_3927/2488143036.py:2: SettingWithCopyWarning: \n",
      "A value is trying to be set on a copy of a slice from a DataFrame.\n",
      "Try using .loc[row_indexer,col_indexer] = value instead\n",
      "\n",
      "See the caveats in the documentation: https://pandas.pydata.org/pandas-docs/stable/user_guide/indexing.html#returning-a-view-versus-a-copy\n",
      "  df['autism_subtype'] = key\n",
      "/var/folders/7n/c_p139yj6jq0tctqpx0x_2rr0000gn/T/ipykernel_3927/2488143036.py:2: SettingWithCopyWarning: \n",
      "A value is trying to be set on a copy of a slice from a DataFrame.\n",
      "Try using .loc[row_indexer,col_indexer] = value instead\n",
      "\n",
      "See the caveats in the documentation: https://pandas.pydata.org/pandas-docs/stable/user_guide/indexing.html#returning-a-view-versus-a-copy\n",
      "  df['autism_subtype'] = key\n",
      "/var/folders/7n/c_p139yj6jq0tctqpx0x_2rr0000gn/T/ipykernel_3927/2488143036.py:2: SettingWithCopyWarning: \n",
      "A value is trying to be set on a copy of a slice from a DataFrame.\n",
      "Try using .loc[row_indexer,col_indexer] = value instead\n",
      "\n",
      "See the caveats in the documentation: https://pandas.pydata.org/pandas-docs/stable/user_guide/indexing.html#returning-a-view-versus-a-copy\n",
      "  df['autism_subtype'] = key\n",
      "/var/folders/7n/c_p139yj6jq0tctqpx0x_2rr0000gn/T/ipykernel_3927/2488143036.py:2: SettingWithCopyWarning: \n",
      "A value is trying to be set on a copy of a slice from a DataFrame.\n",
      "Try using .loc[row_indexer,col_indexer] = value instead\n",
      "\n",
      "See the caveats in the documentation: https://pandas.pydata.org/pandas-docs/stable/user_guide/indexing.html#returning-a-view-versus-a-copy\n",
      "  df['autism_subtype'] = key\n",
      "/var/folders/7n/c_p139yj6jq0tctqpx0x_2rr0000gn/T/ipykernel_3927/2488143036.py:2: SettingWithCopyWarning: \n",
      "A value is trying to be set on a copy of a slice from a DataFrame.\n",
      "Try using .loc[row_indexer,col_indexer] = value instead\n",
      "\n",
      "See the caveats in the documentation: https://pandas.pydata.org/pandas-docs/stable/user_guide/indexing.html#returning-a-view-versus-a-copy\n",
      "  df['autism_subtype'] = key\n"
     ]
    }
   ],
   "source": [
    "for key, df in autism_syndromes.items():\n",
    "    df['autism_subtype'] = key"
   ]
  },
  {
   "cell_type": "code",
   "execution_count": 58,
   "metadata": {},
   "outputs": [
    {
     "data": {
      "text/html": [
       "<div>\n",
       "<style scoped>\n",
       "    .dataframe tbody tr th:only-of-type {\n",
       "        vertical-align: middle;\n",
       "    }\n",
       "\n",
       "    .dataframe tbody tr th {\n",
       "        vertical-align: top;\n",
       "    }\n",
       "\n",
       "    .dataframe thead th {\n",
       "        text-align: right;\n",
       "    }\n",
       "</style>\n",
       "<table border=\"1\" class=\"dataframe\">\n",
       "  <thead>\n",
       "    <tr style=\"text-align: right;\">\n",
       "      <th></th>\n",
       "      <th>diseaseId</th>\n",
       "      <th>diseaseName</th>\n",
       "      <th>autism_subtype</th>\n",
       "    </tr>\n",
       "  </thead>\n",
       "  <tbody>\n",
       "    <tr>\n",
       "      <th>3422</th>\n",
       "      <td>C0016667</td>\n",
       "      <td>Fragile X Syndrome</td>\n",
       "      <td>Fragile X Syndrome</td>\n",
       "    </tr>\n",
       "    <tr>\n",
       "      <th>19131</th>\n",
       "      <td>C1839780</td>\n",
       "      <td>FRAGILE X TREMOR/ATAXIA SYNDROME</td>\n",
       "      <td>Fragile X Syndrome</td>\n",
       "    </tr>\n",
       "  </tbody>\n",
       "</table>\n",
       "</div>"
      ],
      "text/plain": [
       "      diseaseId                       diseaseName      autism_subtype\n",
       "3422   C0016667                Fragile X Syndrome  Fragile X Syndrome\n",
       "19131  C1839780  FRAGILE X TREMOR/ATAXIA SYNDROME  Fragile X Syndrome"
      ]
     },
     "execution_count": 58,
     "metadata": {},
     "output_type": "execute_result"
    }
   ],
   "source": [
    "autism_syndromes['Fragile X Syndrome']"
   ]
  },
  {
   "cell_type": "code",
   "execution_count": 59,
   "metadata": {},
   "outputs": [],
   "source": [
    "autism_syndromes_df = pd.concat(autism_syndromes.values(), axis=0, ignore_index=True)"
   ]
  },
  {
   "cell_type": "code",
   "execution_count": 60,
   "metadata": {},
   "outputs": [
    {
     "data": {
      "text/html": [
       "<div>\n",
       "<style scoped>\n",
       "    .dataframe tbody tr th:only-of-type {\n",
       "        vertical-align: middle;\n",
       "    }\n",
       "\n",
       "    .dataframe tbody tr th {\n",
       "        vertical-align: top;\n",
       "    }\n",
       "\n",
       "    .dataframe thead th {\n",
       "        text-align: right;\n",
       "    }\n",
       "</style>\n",
       "<table border=\"1\" class=\"dataframe\">\n",
       "  <thead>\n",
       "    <tr style=\"text-align: right;\">\n",
       "      <th></th>\n",
       "      <th>diseaseId</th>\n",
       "      <th>diseaseName</th>\n",
       "      <th>autism_subtype</th>\n",
       "      <th>autism_subtype_broad</th>\n",
       "    </tr>\n",
       "  </thead>\n",
       "  <tbody>\n",
       "    <tr>\n",
       "      <th>0</th>\n",
       "      <td>C0035372</td>\n",
       "      <td>Rett Syndrome</td>\n",
       "      <td>Rett Syndrome</td>\n",
       "      <td>Syndromic Autism</td>\n",
       "    </tr>\n",
       "    <tr>\n",
       "      <th>1</th>\n",
       "      <td>C2748910</td>\n",
       "      <td>Rett Syndrome, Atypical</td>\n",
       "      <td>Rett Syndrome</td>\n",
       "      <td>Syndromic Autism</td>\n",
       "    </tr>\n",
       "    <tr>\n",
       "      <th>2</th>\n",
       "      <td>C1839332</td>\n",
       "      <td>Rett Syndrome, Preserved Speech Variant</td>\n",
       "      <td>Rett Syndrome</td>\n",
       "      <td>Syndromic Autism</td>\n",
       "    </tr>\n",
       "    <tr>\n",
       "      <th>3</th>\n",
       "      <td>C2677682</td>\n",
       "      <td>Rett Syndrome, Zappella Variant</td>\n",
       "      <td>Rett Syndrome</td>\n",
       "      <td>Syndromic Autism</td>\n",
       "    </tr>\n",
       "    <tr>\n",
       "      <th>4</th>\n",
       "      <td>C4014821</td>\n",
       "      <td>PORETTI-BOLTSHAUSER SYNDROME</td>\n",
       "      <td>Rett Syndrome</td>\n",
       "      <td>Syndromic Autism</td>\n",
       "    </tr>\n",
       "    <tr>\n",
       "      <th>5</th>\n",
       "      <td>C0016667</td>\n",
       "      <td>Fragile X Syndrome</td>\n",
       "      <td>Fragile X Syndrome</td>\n",
       "      <td>Syndromic Autism</td>\n",
       "    </tr>\n",
       "    <tr>\n",
       "      <th>6</th>\n",
       "      <td>C1839780</td>\n",
       "      <td>FRAGILE X TREMOR/ATAXIA SYNDROME</td>\n",
       "      <td>Fragile X Syndrome</td>\n",
       "      <td>Syndromic Autism</td>\n",
       "    </tr>\n",
       "    <tr>\n",
       "      <th>7</th>\n",
       "      <td>C1968556</td>\n",
       "      <td>ENCEPHALOPATHY, NEONATAL SEVERE, DUE TO MECP2 ...</td>\n",
       "      <td>MECP2 duplication Syndrome</td>\n",
       "      <td>Syndromic Autism</td>\n",
       "    </tr>\n",
       "    <tr>\n",
       "      <th>8</th>\n",
       "      <td>C0041341</td>\n",
       "      <td>Tuberous Sclerosis</td>\n",
       "      <td>Tuberous Sclerosis Complex</td>\n",
       "      <td>Syndromic Autism</td>\n",
       "    </tr>\n",
       "    <tr>\n",
       "      <th>9</th>\n",
       "      <td>C0265319</td>\n",
       "      <td>Fibrous skin tumor of tuberous sclerosis</td>\n",
       "      <td>Tuberous Sclerosis Complex</td>\n",
       "      <td>Syndromic Autism</td>\n",
       "    </tr>\n",
       "    <tr>\n",
       "      <th>10</th>\n",
       "      <td>C1860707</td>\n",
       "      <td>TUBEROUS SCLEROSIS 2 (disorder)</td>\n",
       "      <td>Tuberous Sclerosis Complex</td>\n",
       "      <td>Syndromic Autism</td>\n",
       "    </tr>\n",
       "    <tr>\n",
       "      <th>11</th>\n",
       "      <td>C1838327</td>\n",
       "      <td>Polycystic kidneys, severe infantile with tube...</td>\n",
       "      <td>Tuberous Sclerosis Complex</td>\n",
       "      <td>Syndromic Autism</td>\n",
       "    </tr>\n",
       "    <tr>\n",
       "      <th>12</th>\n",
       "      <td>C1854465</td>\n",
       "      <td>TUBEROUS SCLEROSIS 1 (disorder)</td>\n",
       "      <td>Tuberous Sclerosis Complex</td>\n",
       "      <td>Syndromic Autism</td>\n",
       "    </tr>\n",
       "    <tr>\n",
       "      <th>13</th>\n",
       "      <td>C0162635</td>\n",
       "      <td>Angelman Syndrome</td>\n",
       "      <td>Angelman Syndrome</td>\n",
       "      <td>Syndromic Autism</td>\n",
       "    </tr>\n",
       "    <tr>\n",
       "      <th>14</th>\n",
       "      <td>C1832916</td>\n",
       "      <td>Timothy syndrome</td>\n",
       "      <td>Timothy Syndrome</td>\n",
       "      <td>Syndromic Autism</td>\n",
       "    </tr>\n",
       "    <tr>\n",
       "      <th>15</th>\n",
       "      <td>C0175694</td>\n",
       "      <td>Smith-Lemli-Opitz Syndrome</td>\n",
       "      <td>Smith-Lemli-Opitz Syndrome</td>\n",
       "      <td>Syndromic Autism</td>\n",
       "    </tr>\n",
       "    <tr>\n",
       "      <th>16</th>\n",
       "      <td>C0282643</td>\n",
       "      <td>Smith-Lemli-Opitz Syndrome, Type I</td>\n",
       "      <td>Smith-Lemli-Opitz Syndrome</td>\n",
       "      <td>Syndromic Autism</td>\n",
       "    </tr>\n",
       "    <tr>\n",
       "      <th>17</th>\n",
       "      <td>C0282644</td>\n",
       "      <td>Smith-Lemli-Opitz Syndrome, Type II</td>\n",
       "      <td>Smith-Lemli-Opitz Syndrome</td>\n",
       "      <td>Syndromic Autism</td>\n",
       "    </tr>\n",
       "    <tr>\n",
       "      <th>18</th>\n",
       "      <td>C0027831</td>\n",
       "      <td>Neurofibromatosis 1</td>\n",
       "      <td>Neurofibromatosis</td>\n",
       "      <td>Syndromic Autism</td>\n",
       "    </tr>\n",
       "    <tr>\n",
       "      <th>19</th>\n",
       "      <td>C0917817</td>\n",
       "      <td>Neurofibromatosis 3</td>\n",
       "      <td>Neurofibromatosis</td>\n",
       "      <td>Syndromic Autism</td>\n",
       "    </tr>\n",
       "    <tr>\n",
       "      <th>20</th>\n",
       "      <td>C1834235</td>\n",
       "      <td>NEUROFIBROMATOSIS, FAMILIAL SPINAL</td>\n",
       "      <td>Neurofibromatosis</td>\n",
       "      <td>Syndromic Autism</td>\n",
       "    </tr>\n",
       "    <tr>\n",
       "      <th>21</th>\n",
       "      <td>C0027832</td>\n",
       "      <td>Neurofibromatosis 2</td>\n",
       "      <td>Neurofibromatosis</td>\n",
       "      <td>Syndromic Autism</td>\n",
       "    </tr>\n",
       "    <tr>\n",
       "      <th>22</th>\n",
       "      <td>C2931480</td>\n",
       "      <td>Neurofibromatosis, Type 3, mixed central and p...</td>\n",
       "      <td>Neurofibromatosis</td>\n",
       "      <td>Syndromic Autism</td>\n",
       "    </tr>\n",
       "    <tr>\n",
       "      <th>23</th>\n",
       "      <td>C1969623</td>\n",
       "      <td>NEUROFIBROMATOSIS, TYPE 1-LIKE SYNDROME</td>\n",
       "      <td>Neurofibromatosis</td>\n",
       "      <td>Syndromic Autism</td>\n",
       "    </tr>\n",
       "    <tr>\n",
       "      <th>24</th>\n",
       "      <td>C0018553</td>\n",
       "      <td>Hamartoma Syndrome, Multiple</td>\n",
       "      <td>Hamartoma tumor Syndrome</td>\n",
       "      <td>Syndromic Autism</td>\n",
       "    </tr>\n",
       "    <tr>\n",
       "      <th>25</th>\n",
       "      <td>C1959582</td>\n",
       "      <td>PTEN Hamartoma Tumor Syndrome</td>\n",
       "      <td>Hamartoma tumor Syndrome</td>\n",
       "      <td>Syndromic Autism</td>\n",
       "    </tr>\n",
       "    <tr>\n",
       "      <th>26</th>\n",
       "      <td>C0013080</td>\n",
       "      <td>Down Syndrome</td>\n",
       "      <td>Down Syndrome</td>\n",
       "      <td>Syndromic Autism</td>\n",
       "    </tr>\n",
       "    <tr>\n",
       "      <th>27</th>\n",
       "      <td>C0432416</td>\n",
       "      <td>Down Syndrome, Partial Trisomy 21</td>\n",
       "      <td>Down Syndrome</td>\n",
       "      <td>Syndromic Autism</td>\n",
       "    </tr>\n",
       "    <tr>\n",
       "      <th>28</th>\n",
       "      <td>C1860789</td>\n",
       "      <td>Leukemia, Megakaryoblastic, of Down Syndrome</td>\n",
       "      <td>Down Syndrome</td>\n",
       "      <td>Syndromic Autism</td>\n",
       "    </tr>\n",
       "    <tr>\n",
       "      <th>29</th>\n",
       "      <td>C1860788</td>\n",
       "      <td>Transient Myeloproliferative Disorder of Down ...</td>\n",
       "      <td>Down Syndrome</td>\n",
       "      <td>Syndromic Autism</td>\n",
       "    </tr>\n",
       "    <tr>\n",
       "      <th>30</th>\n",
       "      <td>C1832812</td>\n",
       "      <td>Cataracts, Congenital, with Sensorineural Deaf...</td>\n",
       "      <td>Down Syndrome</td>\n",
       "      <td>Syndromic Autism</td>\n",
       "    </tr>\n",
       "    <tr>\n",
       "      <th>31</th>\n",
       "      <td>C4479654</td>\n",
       "      <td>COHEN-GIBSON SYNDROME</td>\n",
       "      <td>Cohen Syndrome</td>\n",
       "      <td>Syndromic Autism</td>\n",
       "    </tr>\n",
       "    <tr>\n",
       "      <th>32</th>\n",
       "      <td>C0265223</td>\n",
       "      <td>Cohen syndrome</td>\n",
       "      <td>Cohen Syndrome</td>\n",
       "      <td>Syndromic Autism</td>\n",
       "    </tr>\n",
       "    <tr>\n",
       "      <th>33</th>\n",
       "      <td>C0270972</td>\n",
       "      <td>Cornelia De Lange Syndrome</td>\n",
       "      <td>Cornelia de Lange Syndrome</td>\n",
       "      <td>Syndromic Autism</td>\n",
       "    </tr>\n",
       "    <tr>\n",
       "      <th>34</th>\n",
       "      <td>C1853099</td>\n",
       "      <td>Cornelia de Lange Syndrome 3</td>\n",
       "      <td>Cornelia de Lange Syndrome</td>\n",
       "      <td>Syndromic Autism</td>\n",
       "    </tr>\n",
       "    <tr>\n",
       "      <th>35</th>\n",
       "      <td>C3553517</td>\n",
       "      <td>CORNELIA DE LANGE SYNDROME 4</td>\n",
       "      <td>Cornelia de Lange Syndrome</td>\n",
       "      <td>Syndromic Autism</td>\n",
       "    </tr>\n",
       "    <tr>\n",
       "      <th>36</th>\n",
       "      <td>C3550903</td>\n",
       "      <td>CORNELIA DE LANGE SYNDROME 5</td>\n",
       "      <td>Cornelia de Lange Syndrome</td>\n",
       "      <td>Syndromic Autism</td>\n",
       "    </tr>\n",
       "    <tr>\n",
       "      <th>37</th>\n",
       "      <td>C0265354</td>\n",
       "      <td>CHARGE Syndrome</td>\n",
       "      <td>Charge Syndrome</td>\n",
       "      <td>Syndromic Autism</td>\n",
       "    </tr>\n",
       "    <tr>\n",
       "      <th>38</th>\n",
       "      <td>C2936502</td>\n",
       "      <td>Familial CHARGE Syndrome</td>\n",
       "      <td>Charge Syndrome</td>\n",
       "      <td>Syndromic Autism</td>\n",
       "    </tr>\n",
       "    <tr>\n",
       "      <th>39</th>\n",
       "      <td>C0028326</td>\n",
       "      <td>Noonan Syndrome</td>\n",
       "      <td>Noonan Syndrome</td>\n",
       "      <td>Syndromic Autism</td>\n",
       "    </tr>\n",
       "    <tr>\n",
       "      <th>40</th>\n",
       "      <td>C3150970</td>\n",
       "      <td>NOONAN SYNDROME 7</td>\n",
       "      <td>Noonan Syndrome</td>\n",
       "      <td>Syndromic Autism</td>\n",
       "    </tr>\n",
       "    <tr>\n",
       "      <th>41</th>\n",
       "      <td>C3150803</td>\n",
       "      <td>NOONAN SYNDROME-LIKE DISORDER WITH OR WITHOUT ...</td>\n",
       "      <td>Noonan Syndrome</td>\n",
       "      <td>Syndromic Autism</td>\n",
       "    </tr>\n",
       "    <tr>\n",
       "      <th>42</th>\n",
       "      <td>C1860991</td>\n",
       "      <td>NOONAN SYNDROME 3</td>\n",
       "      <td>Noonan Syndrome</td>\n",
       "      <td>Syndromic Autism</td>\n",
       "    </tr>\n",
       "    <tr>\n",
       "      <th>43</th>\n",
       "      <td>C0036069</td>\n",
       "      <td>Saldino-Noonan Syndrome</td>\n",
       "      <td>Noonan Syndrome</td>\n",
       "      <td>Syndromic Autism</td>\n",
       "    </tr>\n",
       "    <tr>\n",
       "      <th>44</th>\n",
       "      <td>C2931482</td>\n",
       "      <td>Neurofibromatosis-Noonan syndrome</td>\n",
       "      <td>Noonan Syndrome</td>\n",
       "      <td>Syndromic Autism</td>\n",
       "    </tr>\n",
       "    <tr>\n",
       "      <th>45</th>\n",
       "      <td>C2750732</td>\n",
       "      <td>Noonan Syndrome 6</td>\n",
       "      <td>Noonan Syndrome</td>\n",
       "      <td>Syndromic Autism</td>\n",
       "    </tr>\n",
       "    <tr>\n",
       "      <th>46</th>\n",
       "      <td>C4479577</td>\n",
       "      <td>NOONAN SYNDROME-LIKE DISORDER WITH LOOSE ANAGE...</td>\n",
       "      <td>Noonan Syndrome</td>\n",
       "      <td>Syndromic Autism</td>\n",
       "    </tr>\n",
       "    <tr>\n",
       "      <th>47</th>\n",
       "      <td>C1969057</td>\n",
       "      <td>Noonan Syndrome 5</td>\n",
       "      <td>Noonan Syndrome</td>\n",
       "      <td>Syndromic Autism</td>\n",
       "    </tr>\n",
       "    <tr>\n",
       "      <th>48</th>\n",
       "      <td>C3809233</td>\n",
       "      <td>NOONAN SYNDROME 8</td>\n",
       "      <td>Noonan Syndrome</td>\n",
       "      <td>Syndromic Autism</td>\n",
       "    </tr>\n",
       "    <tr>\n",
       "      <th>49</th>\n",
       "      <td>C1853120</td>\n",
       "      <td>Noonan Syndrome 4</td>\n",
       "      <td>Noonan Syndrome</td>\n",
       "      <td>Syndromic Autism</td>\n",
       "    </tr>\n",
       "    <tr>\n",
       "      <th>50</th>\n",
       "      <td>C4225282</td>\n",
       "      <td>NOONAN SYNDROME 9</td>\n",
       "      <td>Noonan Syndrome</td>\n",
       "      <td>Syndromic Autism</td>\n",
       "    </tr>\n",
       "    <tr>\n",
       "      <th>51</th>\n",
       "      <td>C1843181</td>\n",
       "      <td>Noonan syndrome-like disorder with loose anage...</td>\n",
       "      <td>Noonan Syndrome</td>\n",
       "      <td>Syndromic Autism</td>\n",
       "    </tr>\n",
       "    <tr>\n",
       "      <th>52</th>\n",
       "      <td>C3501846</td>\n",
       "      <td>Noonan-Like Syndrome With Loose Anagen Hair</td>\n",
       "      <td>Noonan Syndrome</td>\n",
       "      <td>Syndromic Autism</td>\n",
       "    </tr>\n",
       "    <tr>\n",
       "      <th>53</th>\n",
       "      <td>C4478716</td>\n",
       "      <td>NOONAN SYNDROME-LIKE DISORDER WITH LOOSE ANAGE...</td>\n",
       "      <td>Noonan Syndrome</td>\n",
       "      <td>Syndromic Autism</td>\n",
       "    </tr>\n",
       "    <tr>\n",
       "      <th>54</th>\n",
       "      <td>C4225280</td>\n",
       "      <td>NOONAN SYNDROME 10</td>\n",
       "      <td>Noonan Syndrome</td>\n",
       "      <td>Syndromic Autism</td>\n",
       "    </tr>\n",
       "    <tr>\n",
       "      <th>55</th>\n",
       "      <td>C0175702</td>\n",
       "      <td>Williams Syndrome</td>\n",
       "      <td>William Syndrome</td>\n",
       "      <td>Syndromic Autism</td>\n",
       "    </tr>\n",
       "    <tr>\n",
       "      <th>56</th>\n",
       "      <td>C0012236</td>\n",
       "      <td>DiGeorge Syndrome</td>\n",
       "      <td>Digeorge Syndrome</td>\n",
       "      <td>Syndromic Autism</td>\n",
       "    </tr>\n",
       "    <tr>\n",
       "      <th>57</th>\n",
       "      <td>C2936346</td>\n",
       "      <td>22q11 Deletion Syndrome</td>\n",
       "      <td>Digeorge Syndrome</td>\n",
       "      <td>Syndromic Autism</td>\n",
       "    </tr>\n",
       "    <tr>\n",
       "      <th>58</th>\n",
       "      <td>C2678480</td>\n",
       "      <td>Chromosome 22q11.2 Deletion Syndrome, Distal</td>\n",
       "      <td>Digeorge Syndrome</td>\n",
       "      <td>Syndromic Autism</td>\n",
       "    </tr>\n",
       "    <tr>\n",
       "      <th>59</th>\n",
       "      <td>C1854416</td>\n",
       "      <td>MACROCEPHALY/AUTISM SYNDROME</td>\n",
       "      <td>Macrocephaly/Autism Syndrome</td>\n",
       "      <td>Syndromic Autism</td>\n",
       "    </tr>\n",
       "  </tbody>\n",
       "</table>\n",
       "</div>"
      ],
      "text/plain": [
       "   diseaseId                                        diseaseName  \\\n",
       "0   C0035372                                      Rett Syndrome   \n",
       "1   C2748910                            Rett Syndrome, Atypical   \n",
       "2   C1839332            Rett Syndrome, Preserved Speech Variant   \n",
       "3   C2677682                    Rett Syndrome, Zappella Variant   \n",
       "4   C4014821                       PORETTI-BOLTSHAUSER SYNDROME   \n",
       "5   C0016667                                 Fragile X Syndrome   \n",
       "6   C1839780                   FRAGILE X TREMOR/ATAXIA SYNDROME   \n",
       "7   C1968556  ENCEPHALOPATHY, NEONATAL SEVERE, DUE TO MECP2 ...   \n",
       "8   C0041341                                 Tuberous Sclerosis   \n",
       "9   C0265319           Fibrous skin tumor of tuberous sclerosis   \n",
       "10  C1860707                    TUBEROUS SCLEROSIS 2 (disorder)   \n",
       "11  C1838327  Polycystic kidneys, severe infantile with tube...   \n",
       "12  C1854465                    TUBEROUS SCLEROSIS 1 (disorder)   \n",
       "13  C0162635                                  Angelman Syndrome   \n",
       "14  C1832916                                   Timothy syndrome   \n",
       "15  C0175694                         Smith-Lemli-Opitz Syndrome   \n",
       "16  C0282643                 Smith-Lemli-Opitz Syndrome, Type I   \n",
       "17  C0282644                Smith-Lemli-Opitz Syndrome, Type II   \n",
       "18  C0027831                                Neurofibromatosis 1   \n",
       "19  C0917817                                Neurofibromatosis 3   \n",
       "20  C1834235                 NEUROFIBROMATOSIS, FAMILIAL SPINAL   \n",
       "21  C0027832                                Neurofibromatosis 2   \n",
       "22  C2931480  Neurofibromatosis, Type 3, mixed central and p...   \n",
       "23  C1969623            NEUROFIBROMATOSIS, TYPE 1-LIKE SYNDROME   \n",
       "24  C0018553                       Hamartoma Syndrome, Multiple   \n",
       "25  C1959582                      PTEN Hamartoma Tumor Syndrome   \n",
       "26  C0013080                                      Down Syndrome   \n",
       "27  C0432416                  Down Syndrome, Partial Trisomy 21   \n",
       "28  C1860789       Leukemia, Megakaryoblastic, of Down Syndrome   \n",
       "29  C1860788  Transient Myeloproliferative Disorder of Down ...   \n",
       "30  C1832812  Cataracts, Congenital, with Sensorineural Deaf...   \n",
       "31  C4479654                              COHEN-GIBSON SYNDROME   \n",
       "32  C0265223                                     Cohen syndrome   \n",
       "33  C0270972                         Cornelia De Lange Syndrome   \n",
       "34  C1853099                       Cornelia de Lange Syndrome 3   \n",
       "35  C3553517                       CORNELIA DE LANGE SYNDROME 4   \n",
       "36  C3550903                       CORNELIA DE LANGE SYNDROME 5   \n",
       "37  C0265354                                    CHARGE Syndrome   \n",
       "38  C2936502                           Familial CHARGE Syndrome   \n",
       "39  C0028326                                    Noonan Syndrome   \n",
       "40  C3150970                                  NOONAN SYNDROME 7   \n",
       "41  C3150803  NOONAN SYNDROME-LIKE DISORDER WITH OR WITHOUT ...   \n",
       "42  C1860991                                  NOONAN SYNDROME 3   \n",
       "43  C0036069                            Saldino-Noonan Syndrome   \n",
       "44  C2931482                  Neurofibromatosis-Noonan syndrome   \n",
       "45  C2750732                                  Noonan Syndrome 6   \n",
       "46  C4479577  NOONAN SYNDROME-LIKE DISORDER WITH LOOSE ANAGE...   \n",
       "47  C1969057                                  Noonan Syndrome 5   \n",
       "48  C3809233                                  NOONAN SYNDROME 8   \n",
       "49  C1853120                                  Noonan Syndrome 4   \n",
       "50  C4225282                                  NOONAN SYNDROME 9   \n",
       "51  C1843181  Noonan syndrome-like disorder with loose anage...   \n",
       "52  C3501846        Noonan-Like Syndrome With Loose Anagen Hair   \n",
       "53  C4478716  NOONAN SYNDROME-LIKE DISORDER WITH LOOSE ANAGE...   \n",
       "54  C4225280                                 NOONAN SYNDROME 10   \n",
       "55  C0175702                                  Williams Syndrome   \n",
       "56  C0012236                                  DiGeorge Syndrome   \n",
       "57  C2936346                            22q11 Deletion Syndrome   \n",
       "58  C2678480       Chromosome 22q11.2 Deletion Syndrome, Distal   \n",
       "59  C1854416                       MACROCEPHALY/AUTISM SYNDROME   \n",
       "\n",
       "                   autism_subtype autism_subtype_broad  \n",
       "0                   Rett Syndrome     Syndromic Autism  \n",
       "1                   Rett Syndrome     Syndromic Autism  \n",
       "2                   Rett Syndrome     Syndromic Autism  \n",
       "3                   Rett Syndrome     Syndromic Autism  \n",
       "4                   Rett Syndrome     Syndromic Autism  \n",
       "5              Fragile X Syndrome     Syndromic Autism  \n",
       "6              Fragile X Syndrome     Syndromic Autism  \n",
       "7      MECP2 duplication Syndrome     Syndromic Autism  \n",
       "8      Tuberous Sclerosis Complex     Syndromic Autism  \n",
       "9      Tuberous Sclerosis Complex     Syndromic Autism  \n",
       "10     Tuberous Sclerosis Complex     Syndromic Autism  \n",
       "11     Tuberous Sclerosis Complex     Syndromic Autism  \n",
       "12     Tuberous Sclerosis Complex     Syndromic Autism  \n",
       "13              Angelman Syndrome     Syndromic Autism  \n",
       "14               Timothy Syndrome     Syndromic Autism  \n",
       "15     Smith-Lemli-Opitz Syndrome     Syndromic Autism  \n",
       "16     Smith-Lemli-Opitz Syndrome     Syndromic Autism  \n",
       "17     Smith-Lemli-Opitz Syndrome     Syndromic Autism  \n",
       "18              Neurofibromatosis     Syndromic Autism  \n",
       "19              Neurofibromatosis     Syndromic Autism  \n",
       "20              Neurofibromatosis     Syndromic Autism  \n",
       "21              Neurofibromatosis     Syndromic Autism  \n",
       "22              Neurofibromatosis     Syndromic Autism  \n",
       "23              Neurofibromatosis     Syndromic Autism  \n",
       "24       Hamartoma tumor Syndrome     Syndromic Autism  \n",
       "25       Hamartoma tumor Syndrome     Syndromic Autism  \n",
       "26                  Down Syndrome     Syndromic Autism  \n",
       "27                  Down Syndrome     Syndromic Autism  \n",
       "28                  Down Syndrome     Syndromic Autism  \n",
       "29                  Down Syndrome     Syndromic Autism  \n",
       "30                  Down Syndrome     Syndromic Autism  \n",
       "31                 Cohen Syndrome     Syndromic Autism  \n",
       "32                 Cohen Syndrome     Syndromic Autism  \n",
       "33     Cornelia de Lange Syndrome     Syndromic Autism  \n",
       "34     Cornelia de Lange Syndrome     Syndromic Autism  \n",
       "35     Cornelia de Lange Syndrome     Syndromic Autism  \n",
       "36     Cornelia de Lange Syndrome     Syndromic Autism  \n",
       "37                Charge Syndrome     Syndromic Autism  \n",
       "38                Charge Syndrome     Syndromic Autism  \n",
       "39                Noonan Syndrome     Syndromic Autism  \n",
       "40                Noonan Syndrome     Syndromic Autism  \n",
       "41                Noonan Syndrome     Syndromic Autism  \n",
       "42                Noonan Syndrome     Syndromic Autism  \n",
       "43                Noonan Syndrome     Syndromic Autism  \n",
       "44                Noonan Syndrome     Syndromic Autism  \n",
       "45                Noonan Syndrome     Syndromic Autism  \n",
       "46                Noonan Syndrome     Syndromic Autism  \n",
       "47                Noonan Syndrome     Syndromic Autism  \n",
       "48                Noonan Syndrome     Syndromic Autism  \n",
       "49                Noonan Syndrome     Syndromic Autism  \n",
       "50                Noonan Syndrome     Syndromic Autism  \n",
       "51                Noonan Syndrome     Syndromic Autism  \n",
       "52                Noonan Syndrome     Syndromic Autism  \n",
       "53                Noonan Syndrome     Syndromic Autism  \n",
       "54                Noonan Syndrome     Syndromic Autism  \n",
       "55               William Syndrome     Syndromic Autism  \n",
       "56              Digeorge Syndrome     Syndromic Autism  \n",
       "57              Digeorge Syndrome     Syndromic Autism  \n",
       "58              Digeorge Syndrome     Syndromic Autism  \n",
       "59  Macrocephaly/Autism Syndrome      Syndromic Autism  "
      ]
     },
     "execution_count": 60,
     "metadata": {},
     "output_type": "execute_result"
    }
   ],
   "source": [
    "autism_syndromes_df['autism_subtype_broad'] = 'Syndromic Autism'\n",
    "autism_syndromes_df"
   ]
  },
  {
   "cell_type": "markdown",
   "metadata": {},
   "source": [
    "# Combine & Export to csv"
   ]
  },
  {
   "cell_type": "code",
   "execution_count": 61,
   "metadata": {},
   "outputs": [],
   "source": [
    "df = pd.concat([autism_terms, autism_syndromes_df], axis=0)"
   ]
  },
  {
   "cell_type": "code",
   "execution_count": 62,
   "metadata": {},
   "outputs": [
    {
     "data": {
      "text/html": [
       "<div>\n",
       "<style scoped>\n",
       "    .dataframe tbody tr th:only-of-type {\n",
       "        vertical-align: middle;\n",
       "    }\n",
       "\n",
       "    .dataframe tbody tr th {\n",
       "        vertical-align: top;\n",
       "    }\n",
       "\n",
       "    .dataframe thead th {\n",
       "        text-align: right;\n",
       "    }\n",
       "</style>\n",
       "<table border=\"1\" class=\"dataframe\">\n",
       "  <thead>\n",
       "    <tr style=\"text-align: right;\">\n",
       "      <th></th>\n",
       "      <th>diseaseId</th>\n",
       "      <th>diseaseName</th>\n",
       "      <th>autism_subtype</th>\n",
       "      <th>autism_subtype_broad</th>\n",
       "    </tr>\n",
       "  </thead>\n",
       "  <tbody>\n",
       "    <tr>\n",
       "      <th>0</th>\n",
       "      <td>C0004352</td>\n",
       "      <td>Autistic Disorder</td>\n",
       "      <td>Autism Spectrum Disorder</td>\n",
       "      <td>Non-Syndromic Autism</td>\n",
       "    </tr>\n",
       "    <tr>\n",
       "      <th>1</th>\n",
       "      <td>C1510586</td>\n",
       "      <td>Autism Spectrum Disorders</td>\n",
       "      <td>Autism Spectrum Disorder</td>\n",
       "      <td>Non-Syndromic Autism</td>\n",
       "    </tr>\n",
       "    <tr>\n",
       "      <th>2</th>\n",
       "      <td>C3275438</td>\n",
       "      <td>AUTISM, SUSCEPTIBILITY TO, X-LINKED 5</td>\n",
       "      <td>Autism Spectrum Disorder</td>\n",
       "      <td>Non-Syndromic Autism</td>\n",
       "    </tr>\n",
       "    <tr>\n",
       "      <th>3</th>\n",
       "      <td>C3552491</td>\n",
       "      <td>AUTISM, SUSCEPTIBILITY TO, 14A</td>\n",
       "      <td>Autism Spectrum Disorder</td>\n",
       "      <td>Non-Syndromic Autism</td>\n",
       "    </tr>\n",
       "    <tr>\n",
       "      <th>4</th>\n",
       "      <td>C1845540</td>\n",
       "      <td>AUTISM, X-LINKED, SUSCEPTIBILITY TO, 1 (finding)</td>\n",
       "      <td>Autism Spectrum Disorder</td>\n",
       "      <td>Non-Syndromic Autism</td>\n",
       "    </tr>\n",
       "  </tbody>\n",
       "</table>\n",
       "</div>"
      ],
      "text/plain": [
       "  diseaseId                                       diseaseName  \\\n",
       "0  C0004352                                 Autistic Disorder   \n",
       "1  C1510586                         Autism Spectrum Disorders   \n",
       "2  C3275438             AUTISM, SUSCEPTIBILITY TO, X-LINKED 5   \n",
       "3  C3552491                    AUTISM, SUSCEPTIBILITY TO, 14A   \n",
       "4  C1845540  AUTISM, X-LINKED, SUSCEPTIBILITY TO, 1 (finding)   \n",
       "\n",
       "             autism_subtype  autism_subtype_broad  \n",
       "0  Autism Spectrum Disorder  Non-Syndromic Autism  \n",
       "1  Autism Spectrum Disorder  Non-Syndromic Autism  \n",
       "2  Autism Spectrum Disorder  Non-Syndromic Autism  \n",
       "3  Autism Spectrum Disorder  Non-Syndromic Autism  \n",
       "4  Autism Spectrum Disorder  Non-Syndromic Autism  "
      ]
     },
     "execution_count": 62,
     "metadata": {},
     "output_type": "execute_result"
    }
   ],
   "source": [
    "df.head()"
   ]
  },
  {
   "cell_type": "code",
   "execution_count": 63,
   "metadata": {},
   "outputs": [
    {
     "data": {
      "text/html": [
       "<div>\n",
       "<style scoped>\n",
       "    .dataframe tbody tr th:only-of-type {\n",
       "        vertical-align: middle;\n",
       "    }\n",
       "\n",
       "    .dataframe tbody tr th {\n",
       "        vertical-align: top;\n",
       "    }\n",
       "\n",
       "    .dataframe thead th {\n",
       "        text-align: right;\n",
       "    }\n",
       "</style>\n",
       "<table border=\"1\" class=\"dataframe\">\n",
       "  <thead>\n",
       "    <tr style=\"text-align: right;\">\n",
       "      <th></th>\n",
       "      <th>diseaseId</th>\n",
       "      <th>diseaseName</th>\n",
       "      <th>autism_subtype</th>\n",
       "      <th>autism_subtype_broad</th>\n",
       "    </tr>\n",
       "  </thead>\n",
       "  <tbody>\n",
       "    <tr>\n",
       "      <th>55</th>\n",
       "      <td>C0175702</td>\n",
       "      <td>Williams Syndrome</td>\n",
       "      <td>William Syndrome</td>\n",
       "      <td>Syndromic Autism</td>\n",
       "    </tr>\n",
       "    <tr>\n",
       "      <th>56</th>\n",
       "      <td>C0012236</td>\n",
       "      <td>DiGeorge Syndrome</td>\n",
       "      <td>Digeorge Syndrome</td>\n",
       "      <td>Syndromic Autism</td>\n",
       "    </tr>\n",
       "    <tr>\n",
       "      <th>57</th>\n",
       "      <td>C2936346</td>\n",
       "      <td>22q11 Deletion Syndrome</td>\n",
       "      <td>Digeorge Syndrome</td>\n",
       "      <td>Syndromic Autism</td>\n",
       "    </tr>\n",
       "    <tr>\n",
       "      <th>58</th>\n",
       "      <td>C2678480</td>\n",
       "      <td>Chromosome 22q11.2 Deletion Syndrome, Distal</td>\n",
       "      <td>Digeorge Syndrome</td>\n",
       "      <td>Syndromic Autism</td>\n",
       "    </tr>\n",
       "    <tr>\n",
       "      <th>59</th>\n",
       "      <td>C1854416</td>\n",
       "      <td>MACROCEPHALY/AUTISM SYNDROME</td>\n",
       "      <td>Macrocephaly/Autism Syndrome</td>\n",
       "      <td>Syndromic Autism</td>\n",
       "    </tr>\n",
       "  </tbody>\n",
       "</table>\n",
       "</div>"
      ],
      "text/plain": [
       "   diseaseId                                   diseaseName  \\\n",
       "55  C0175702                             Williams Syndrome   \n",
       "56  C0012236                             DiGeorge Syndrome   \n",
       "57  C2936346                       22q11 Deletion Syndrome   \n",
       "58  C2678480  Chromosome 22q11.2 Deletion Syndrome, Distal   \n",
       "59  C1854416                  MACROCEPHALY/AUTISM SYNDROME   \n",
       "\n",
       "                   autism_subtype autism_subtype_broad  \n",
       "55               William Syndrome     Syndromic Autism  \n",
       "56              Digeorge Syndrome     Syndromic Autism  \n",
       "57              Digeorge Syndrome     Syndromic Autism  \n",
       "58              Digeorge Syndrome     Syndromic Autism  \n",
       "59  Macrocephaly/Autism Syndrome      Syndromic Autism  "
      ]
     },
     "execution_count": 63,
     "metadata": {},
     "output_type": "execute_result"
    }
   ],
   "source": [
    "df.tail()"
   ]
  },
  {
   "cell_type": "code",
   "execution_count": 64,
   "metadata": {},
   "outputs": [],
   "source": [
    "df.to_csv('processed_data/autism_terms.csv', sep='\\t')"
   ]
  }
 ],
 "metadata": {
  "kernelspec": {
   "display_name": "base",
   "language": "python",
   "name": "python3"
  },
  "language_info": {
   "codemirror_mode": {
    "name": "ipython",
    "version": 3
   },
   "file_extension": ".py",
   "mimetype": "text/x-python",
   "name": "python",
   "nbconvert_exporter": "python",
   "pygments_lexer": "ipython3",
   "version": "3.11.5"
  }
 },
 "nbformat": 4,
 "nbformat_minor": 2
}
