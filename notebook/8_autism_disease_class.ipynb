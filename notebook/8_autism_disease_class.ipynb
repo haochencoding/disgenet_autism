{
 "cells": [
  {
   "cell_type": "code",
   "execution_count": 14,
   "metadata": {},
   "outputs": [],
   "source": [
    "import pandas as pd\n",
    "import numpy as np\n",
    "import networkx as nx\n",
    "import nxviz as nv\n",
    "from nxviz import MatrixPlot, ArcPlot, CircosPlot\n",
    "import matplotlib.pyplot as plt\n",
    "import seaborn as sns"
   ]
  },
  {
   "cell_type": "code",
   "execution_count": 15,
   "metadata": {},
   "outputs": [],
   "source": [
    "data = pd.read_csv(\"./processed_data/curated_gene_disease_associations_autism_grouped.csv\", sep='\\t')\n",
    "autisms = data[data['diseaseId'].str.contains('A')]"
   ]
  },
  {
   "cell_type": "code",
   "execution_count": 16,
   "metadata": {},
   "outputs": [
    {
     "data": {
      "text/html": [
       "<div>\n",
       "<style scoped>\n",
       "    .dataframe tbody tr th:only-of-type {\n",
       "        vertical-align: middle;\n",
       "    }\n",
       "\n",
       "    .dataframe tbody tr th {\n",
       "        vertical-align: top;\n",
       "    }\n",
       "\n",
       "    .dataframe thead th {\n",
       "        text-align: right;\n",
       "    }\n",
       "</style>\n",
       "<table border=\"1\" class=\"dataframe\">\n",
       "  <thead>\n",
       "    <tr style=\"text-align: right;\">\n",
       "      <th></th>\n",
       "      <th>diseaseId</th>\n",
       "      <th>diseaseName</th>\n",
       "      <th>diseaseClass</th>\n",
       "    </tr>\n",
       "  </thead>\n",
       "  <tbody>\n",
       "    <tr>\n",
       "      <th>100</th>\n",
       "      <td>A00</td>\n",
       "      <td>Autism Spectrum Disorder</td>\n",
       "      <td>F03</td>\n",
       "    </tr>\n",
       "    <tr>\n",
       "      <th>1952</th>\n",
       "      <td>A09</td>\n",
       "      <td>Hamartoma tumor Syndrome</td>\n",
       "      <td>C04;C16</td>\n",
       "    </tr>\n",
       "    <tr>\n",
       "      <th>3422</th>\n",
       "      <td>A02</td>\n",
       "      <td>Fragile X Syndrome</td>\n",
       "      <td>C10;C16;C23</td>\n",
       "    </tr>\n",
       "    <tr>\n",
       "      <th>4018</th>\n",
       "      <td>A16</td>\n",
       "      <td>Digeorge Syndrome</td>\n",
       "      <td>C05;C14;C15;C16;C19;C23</td>\n",
       "    </tr>\n",
       "    <tr>\n",
       "      <th>6110</th>\n",
       "      <td>A08</td>\n",
       "      <td>Neurofibromatosis</td>\n",
       "      <td>C04;C09;C10;C16;C17;C23</td>\n",
       "    </tr>\n",
       "    <tr>\n",
       "      <th>6111</th>\n",
       "      <td>A14</td>\n",
       "      <td>Noonan Syndrome</td>\n",
       "      <td>C04;C05;C10;C14;C16;C17;C23</td>\n",
       "    </tr>\n",
       "    <tr>\n",
       "      <th>6683</th>\n",
       "      <td>A06</td>\n",
       "      <td>Timothy Syndrome</td>\n",
       "      <td>C05;C14;C16;C23;F03</td>\n",
       "    </tr>\n",
       "    <tr>\n",
       "      <th>6846</th>\n",
       "      <td>A10</td>\n",
       "      <td>Down Syndrome</td>\n",
       "      <td>C04;C09;C10;C11;C15;C16;C23;F01;F03</td>\n",
       "    </tr>\n",
       "    <tr>\n",
       "      <th>14086</th>\n",
       "      <td>A07</td>\n",
       "      <td>Smith-Lemli-Opitz Syndrome</td>\n",
       "      <td>C16;C18</td>\n",
       "    </tr>\n",
       "    <tr>\n",
       "      <th>14294</th>\n",
       "      <td>A15</td>\n",
       "      <td>William Syndrome</td>\n",
       "      <td>C10;C14;C16</td>\n",
       "    </tr>\n",
       "    <tr>\n",
       "      <th>15903</th>\n",
       "      <td>A01</td>\n",
       "      <td>Rett Syndrome</td>\n",
       "      <td>C10;C16</td>\n",
       "    </tr>\n",
       "    <tr>\n",
       "      <th>19895</th>\n",
       "      <td>A05</td>\n",
       "      <td>Angelman Syndrome</td>\n",
       "      <td>C10;C16</td>\n",
       "    </tr>\n",
       "    <tr>\n",
       "      <th>26442</th>\n",
       "      <td>A04</td>\n",
       "      <td>Tuberous Sclerosis Complex</td>\n",
       "      <td>C04;C10;C12;C13;C16</td>\n",
       "    </tr>\n",
       "    <tr>\n",
       "      <th>32493</th>\n",
       "      <td>A03</td>\n",
       "      <td>MECP2 duplication Syndrome</td>\n",
       "      <td>C10;C16</td>\n",
       "    </tr>\n",
       "    <tr>\n",
       "      <th>33073</th>\n",
       "      <td>A12</td>\n",
       "      <td>Cornelia de Lange Syndrome</td>\n",
       "      <td>C10;C16</td>\n",
       "    </tr>\n",
       "    <tr>\n",
       "      <th>43109</th>\n",
       "      <td>A17</td>\n",
       "      <td>Macrocephaly/Autism Syndrome</td>\n",
       "      <td>C05;C10;C16;C23;F03</td>\n",
       "    </tr>\n",
       "    <tr>\n",
       "      <th>57338</th>\n",
       "      <td>A11</td>\n",
       "      <td>Cohen Syndrome</td>\n",
       "      <td>C05;C10;C11;C16;C18;C23;F01;F03</td>\n",
       "    </tr>\n",
       "    <tr>\n",
       "      <th>60015</th>\n",
       "      <td>A13</td>\n",
       "      <td>Charge Syndrome</td>\n",
       "      <td>C16</td>\n",
       "    </tr>\n",
       "  </tbody>\n",
       "</table>\n",
       "</div>"
      ],
      "text/plain": [
       "      diseaseId                    diseaseName  \\\n",
       "100         A00       Autism Spectrum Disorder   \n",
       "1952        A09       Hamartoma tumor Syndrome   \n",
       "3422        A02             Fragile X Syndrome   \n",
       "4018        A16              Digeorge Syndrome   \n",
       "6110        A08              Neurofibromatosis   \n",
       "6111        A14                Noonan Syndrome   \n",
       "6683        A06               Timothy Syndrome   \n",
       "6846        A10                  Down Syndrome   \n",
       "14086       A07     Smith-Lemli-Opitz Syndrome   \n",
       "14294       A15               William Syndrome   \n",
       "15903       A01                  Rett Syndrome   \n",
       "19895       A05              Angelman Syndrome   \n",
       "26442       A04     Tuberous Sclerosis Complex   \n",
       "32493       A03     MECP2 duplication Syndrome   \n",
       "33073       A12     Cornelia de Lange Syndrome   \n",
       "43109       A17  Macrocephaly/Autism Syndrome    \n",
       "57338       A11                 Cohen Syndrome   \n",
       "60015       A13                Charge Syndrome   \n",
       "\n",
       "                              diseaseClass  \n",
       "100                                    F03  \n",
       "1952                               C04;C16  \n",
       "3422                           C10;C16;C23  \n",
       "4018               C05;C14;C15;C16;C19;C23  \n",
       "6110               C04;C09;C10;C16;C17;C23  \n",
       "6111           C04;C05;C10;C14;C16;C17;C23  \n",
       "6683                   C05;C14;C16;C23;F03  \n",
       "6846   C04;C09;C10;C11;C15;C16;C23;F01;F03  \n",
       "14086                              C16;C18  \n",
       "14294                          C10;C14;C16  \n",
       "15903                              C10;C16  \n",
       "19895                              C10;C16  \n",
       "26442                  C04;C10;C12;C13;C16  \n",
       "32493                              C10;C16  \n",
       "33073                              C10;C16  \n",
       "43109                  C05;C10;C16;C23;F03  \n",
       "57338      C05;C10;C11;C16;C18;C23;F01;F03  \n",
       "60015                                  C16  "
      ]
     },
     "execution_count": 16,
     "metadata": {},
     "output_type": "execute_result"
    }
   ],
   "source": [
    "autisms = autisms[['diseaseId', 'diseaseName', 'diseaseClass']].drop_duplicates()\n",
    "autisms"
   ]
  },
  {
   "cell_type": "code",
   "execution_count": 17,
   "metadata": {},
   "outputs": [],
   "source": [
    "autisms['diseaseClass'] = autisms['diseaseClass'].apply(lambda x: x.split(';'))"
   ]
  },
  {
   "cell_type": "code",
   "execution_count": 18,
   "metadata": {},
   "outputs": [
    {
     "data": {
      "text/html": [
       "<div>\n",
       "<style scoped>\n",
       "    .dataframe tbody tr th:only-of-type {\n",
       "        vertical-align: middle;\n",
       "    }\n",
       "\n",
       "    .dataframe tbody tr th {\n",
       "        vertical-align: top;\n",
       "    }\n",
       "\n",
       "    .dataframe thead th {\n",
       "        text-align: right;\n",
       "    }\n",
       "</style>\n",
       "<table border=\"1\" class=\"dataframe\">\n",
       "  <thead>\n",
       "    <tr style=\"text-align: right;\">\n",
       "      <th></th>\n",
       "      <th>diseaseId</th>\n",
       "      <th>diseaseName</th>\n",
       "      <th>diseaseClass</th>\n",
       "    </tr>\n",
       "  </thead>\n",
       "  <tbody>\n",
       "    <tr>\n",
       "      <th>100</th>\n",
       "      <td>A00</td>\n",
       "      <td>Autism Spectrum Disorder</td>\n",
       "      <td>[F03]</td>\n",
       "    </tr>\n",
       "    <tr>\n",
       "      <th>1952</th>\n",
       "      <td>A09</td>\n",
       "      <td>Hamartoma tumor Syndrome</td>\n",
       "      <td>[C04, C16]</td>\n",
       "    </tr>\n",
       "    <tr>\n",
       "      <th>3422</th>\n",
       "      <td>A02</td>\n",
       "      <td>Fragile X Syndrome</td>\n",
       "      <td>[C10, C16, C23]</td>\n",
       "    </tr>\n",
       "    <tr>\n",
       "      <th>4018</th>\n",
       "      <td>A16</td>\n",
       "      <td>Digeorge Syndrome</td>\n",
       "      <td>[C05, C14, C15, C16, C19, C23]</td>\n",
       "    </tr>\n",
       "    <tr>\n",
       "      <th>6110</th>\n",
       "      <td>A08</td>\n",
       "      <td>Neurofibromatosis</td>\n",
       "      <td>[C04, C09, C10, C16, C17, C23]</td>\n",
       "    </tr>\n",
       "    <tr>\n",
       "      <th>6111</th>\n",
       "      <td>A14</td>\n",
       "      <td>Noonan Syndrome</td>\n",
       "      <td>[C04, C05, C10, C14, C16, C17, C23]</td>\n",
       "    </tr>\n",
       "    <tr>\n",
       "      <th>6683</th>\n",
       "      <td>A06</td>\n",
       "      <td>Timothy Syndrome</td>\n",
       "      <td>[C05, C14, C16, C23, F03]</td>\n",
       "    </tr>\n",
       "    <tr>\n",
       "      <th>6846</th>\n",
       "      <td>A10</td>\n",
       "      <td>Down Syndrome</td>\n",
       "      <td>[C04, C09, C10, C11, C15, C16, C23, F01, F03]</td>\n",
       "    </tr>\n",
       "    <tr>\n",
       "      <th>14086</th>\n",
       "      <td>A07</td>\n",
       "      <td>Smith-Lemli-Opitz Syndrome</td>\n",
       "      <td>[C16, C18]</td>\n",
       "    </tr>\n",
       "    <tr>\n",
       "      <th>14294</th>\n",
       "      <td>A15</td>\n",
       "      <td>William Syndrome</td>\n",
       "      <td>[C10, C14, C16]</td>\n",
       "    </tr>\n",
       "    <tr>\n",
       "      <th>15903</th>\n",
       "      <td>A01</td>\n",
       "      <td>Rett Syndrome</td>\n",
       "      <td>[C10, C16]</td>\n",
       "    </tr>\n",
       "    <tr>\n",
       "      <th>19895</th>\n",
       "      <td>A05</td>\n",
       "      <td>Angelman Syndrome</td>\n",
       "      <td>[C10, C16]</td>\n",
       "    </tr>\n",
       "    <tr>\n",
       "      <th>26442</th>\n",
       "      <td>A04</td>\n",
       "      <td>Tuberous Sclerosis Complex</td>\n",
       "      <td>[C04, C10, C12, C13, C16]</td>\n",
       "    </tr>\n",
       "    <tr>\n",
       "      <th>32493</th>\n",
       "      <td>A03</td>\n",
       "      <td>MECP2 duplication Syndrome</td>\n",
       "      <td>[C10, C16]</td>\n",
       "    </tr>\n",
       "    <tr>\n",
       "      <th>33073</th>\n",
       "      <td>A12</td>\n",
       "      <td>Cornelia de Lange Syndrome</td>\n",
       "      <td>[C10, C16]</td>\n",
       "    </tr>\n",
       "    <tr>\n",
       "      <th>43109</th>\n",
       "      <td>A17</td>\n",
       "      <td>Macrocephaly/Autism Syndrome</td>\n",
       "      <td>[C05, C10, C16, C23, F03]</td>\n",
       "    </tr>\n",
       "    <tr>\n",
       "      <th>57338</th>\n",
       "      <td>A11</td>\n",
       "      <td>Cohen Syndrome</td>\n",
       "      <td>[C05, C10, C11, C16, C18, C23, F01, F03]</td>\n",
       "    </tr>\n",
       "    <tr>\n",
       "      <th>60015</th>\n",
       "      <td>A13</td>\n",
       "      <td>Charge Syndrome</td>\n",
       "      <td>[C16]</td>\n",
       "    </tr>\n",
       "  </tbody>\n",
       "</table>\n",
       "</div>"
      ],
      "text/plain": [
       "      diseaseId                    diseaseName  \\\n",
       "100         A00       Autism Spectrum Disorder   \n",
       "1952        A09       Hamartoma tumor Syndrome   \n",
       "3422        A02             Fragile X Syndrome   \n",
       "4018        A16              Digeorge Syndrome   \n",
       "6110        A08              Neurofibromatosis   \n",
       "6111        A14                Noonan Syndrome   \n",
       "6683        A06               Timothy Syndrome   \n",
       "6846        A10                  Down Syndrome   \n",
       "14086       A07     Smith-Lemli-Opitz Syndrome   \n",
       "14294       A15               William Syndrome   \n",
       "15903       A01                  Rett Syndrome   \n",
       "19895       A05              Angelman Syndrome   \n",
       "26442       A04     Tuberous Sclerosis Complex   \n",
       "32493       A03     MECP2 duplication Syndrome   \n",
       "33073       A12     Cornelia de Lange Syndrome   \n",
       "43109       A17  Macrocephaly/Autism Syndrome    \n",
       "57338       A11                 Cohen Syndrome   \n",
       "60015       A13                Charge Syndrome   \n",
       "\n",
       "                                        diseaseClass  \n",
       "100                                            [F03]  \n",
       "1952                                      [C04, C16]  \n",
       "3422                                 [C10, C16, C23]  \n",
       "4018                  [C05, C14, C15, C16, C19, C23]  \n",
       "6110                  [C04, C09, C10, C16, C17, C23]  \n",
       "6111             [C04, C05, C10, C14, C16, C17, C23]  \n",
       "6683                       [C05, C14, C16, C23, F03]  \n",
       "6846   [C04, C09, C10, C11, C15, C16, C23, F01, F03]  \n",
       "14086                                     [C16, C18]  \n",
       "14294                                [C10, C14, C16]  \n",
       "15903                                     [C10, C16]  \n",
       "19895                                     [C10, C16]  \n",
       "26442                      [C04, C10, C12, C13, C16]  \n",
       "32493                                     [C10, C16]  \n",
       "33073                                     [C10, C16]  \n",
       "43109                      [C05, C10, C16, C23, F03]  \n",
       "57338       [C05, C10, C11, C16, C18, C23, F01, F03]  \n",
       "60015                                          [C16]  "
      ]
     },
     "execution_count": 18,
     "metadata": {},
     "output_type": "execute_result"
    }
   ],
   "source": [
    "autisms"
   ]
  },
  {
   "cell_type": "code",
   "execution_count": 19,
   "metadata": {},
   "outputs": [
    {
     "data": {
      "text/plain": [
       "['C04',\n",
       " 'C05',\n",
       " 'C09',\n",
       " 'C10',\n",
       " 'C11',\n",
       " 'C12',\n",
       " 'C13',\n",
       " 'C14',\n",
       " 'C15',\n",
       " 'C16',\n",
       " 'C17',\n",
       " 'C18',\n",
       " 'C19',\n",
       " 'C23',\n",
       " 'F01',\n",
       " 'F03']"
      ]
     },
     "execution_count": 19,
     "metadata": {},
     "output_type": "execute_result"
    }
   ],
   "source": [
    "disease_classes = set()\n",
    "for disease_class in autisms['diseaseClass']:\n",
    "    disease_classes.update(set(disease_class))\n",
    "disease_classes = sorted(list(disease_classes))\n",
    "disease_classes"
   ]
  },
  {
   "cell_type": "code",
   "execution_count": 20,
   "metadata": {},
   "outputs": [],
   "source": [
    "disease_classes_dicts = [\n",
    "    ('C04', 'neoplasms'),\n",
    "    ('C05', 'musculoskeletal diseases'),\n",
    "    ('C09', 'otorhinolaryngologic diseases'),\n",
    "    ('C10', 'nervous system diseases'),\n",
    "    ('C11', 'eye diseases'),\n",
    "    ('C12', 'urologic and male genital diseases'),\n",
    "    ('C13', 'female genital diseases and pregnancy complications'),\n",
    "    ('C14', 'cardiovascular diseases'),\n",
    "    ('C15', 'hemic and lymphatic diseases'),\n",
    "    ('C16', 'congenital, hereditary, and neonatal diseases and abnormalities'),\n",
    "    ('C17', 'skin and connective tissue diseases'),\n",
    "    ('C18', 'nutritional and metabolic diseases'), \n",
    "    ('C19', 'endocrine system diseases'),\n",
    "    ('C23', 'pathological conditions, signs and symptoms'),\n",
    "    ('F01', 'behavior and behavior mechanisms'),\n",
    "    ('F03', 'mental disorders')\n",
    "]"
   ]
  },
  {
   "cell_type": "code",
   "execution_count": 21,
   "metadata": {},
   "outputs": [],
   "source": [
    "G = nx.Graph()"
   ]
  },
  {
   "cell_type": "markdown",
   "metadata": {},
   "source": [
    "# Add class nodes"
   ]
  },
  {
   "cell_type": "code",
   "execution_count": 22,
   "metadata": {},
   "outputs": [
    {
     "data": {
      "text/plain": [
       "NodeDataView({'C04': {'bipartite': 'disease_class', 'name': 'neoplasms'}, 'C05': {'bipartite': 'disease_class', 'name': 'musculoskeletal diseases'}, 'C09': {'bipartite': 'disease_class', 'name': 'otorhinolaryngologic diseases'}, 'C10': {'bipartite': 'disease_class', 'name': 'nervous system diseases'}, 'C11': {'bipartite': 'disease_class', 'name': 'eye diseases'}, 'C12': {'bipartite': 'disease_class', 'name': 'urologic and male genital diseases'}, 'C13': {'bipartite': 'disease_class', 'name': 'female genital diseases and pregnancy complications'}, 'C14': {'bipartite': 'disease_class', 'name': 'cardiovascular diseases'}, 'C15': {'bipartite': 'disease_class', 'name': 'hemic and lymphatic diseases'}, 'C16': {'bipartite': 'disease_class', 'name': 'congenital, hereditary, and neonatal diseases and abnormalities'}, 'C17': {'bipartite': 'disease_class', 'name': 'skin and connective tissue diseases'}, 'C18': {'bipartite': 'disease_class', 'name': 'nutritional and metabolic diseases'}, 'C19': {'bipartite': 'disease_class', 'name': 'endocrine system diseases'}, 'C23': {'bipartite': 'disease_class', 'name': 'pathological conditions, signs and symptoms'}, 'F01': {'bipartite': 'disease_class', 'name': 'behavior and behavior mechanisms'}, 'F03': {'bipartite': 'disease_class', 'name': 'mental disorders'}})"
      ]
     },
     "execution_count": 22,
     "metadata": {},
     "output_type": "execute_result"
    }
   ],
   "source": [
    "for class_id, class_name in disease_classes_dicts:\n",
    "    G.add_node(\n",
    "        class_id,\n",
    "        bipartite='disease_class',\n",
    "        name=class_name)\n",
    "G.nodes(data=True)"
   ]
  },
  {
   "cell_type": "markdown",
   "metadata": {},
   "source": [
    "# Add disease nodes"
   ]
  },
  {
   "cell_type": "code",
   "execution_count": 23,
   "metadata": {},
   "outputs": [
    {
     "data": {
      "text/plain": [
       "('A13', {'bipartite': 'autism', 'name': 'Charge Syndrome'})"
      ]
     },
     "execution_count": 23,
     "metadata": {},
     "output_type": "execute_result"
    }
   ],
   "source": [
    "for _, row in autisms.iterrows():\n",
    "    G.add_node(\n",
    "        row['diseaseId'],\n",
    "        bipartite='autism',\n",
    "        name=row['diseaseName']\n",
    "        )\n",
    "list(G.nodes(data=True))[-1]"
   ]
  },
  {
   "cell_type": "markdown",
   "metadata": {},
   "source": [
    "# Add Edges "
   ]
  },
  {
   "cell_type": "code",
   "execution_count": 24,
   "metadata": {},
   "outputs": [
    {
     "data": {
      "text/plain": [
       "EdgeView([('C04', 'A09'), ('C04', 'A08'), ('C04', 'A14'), ('C04', 'A10'), ('C04', 'A04'), ('C05', 'A16'), ('C05', 'A14'), ('C05', 'A06'), ('C05', 'A17'), ('C05', 'A11'), ('C09', 'A08'), ('C09', 'A10'), ('C10', 'A02'), ('C10', 'A08'), ('C10', 'A14'), ('C10', 'A10'), ('C10', 'A15'), ('C10', 'A01'), ('C10', 'A05'), ('C10', 'A04'), ('C10', 'A03'), ('C10', 'A12'), ('C10', 'A17'), ('C10', 'A11'), ('C11', 'A10'), ('C11', 'A11'), ('C12', 'A04'), ('C13', 'A04'), ('C14', 'A16'), ('C14', 'A14'), ('C14', 'A06'), ('C14', 'A15'), ('C15', 'A16'), ('C15', 'A10'), ('C16', 'A09'), ('C16', 'A02'), ('C16', 'A16'), ('C16', 'A08'), ('C16', 'A14'), ('C16', 'A06'), ('C16', 'A10'), ('C16', 'A07'), ('C16', 'A15'), ('C16', 'A01'), ('C16', 'A05'), ('C16', 'A04'), ('C16', 'A03'), ('C16', 'A12'), ('C16', 'A17'), ('C16', 'A11'), ('C16', 'A13'), ('C17', 'A08'), ('C17', 'A14'), ('C18', 'A07'), ('C18', 'A11'), ('C19', 'A16'), ('C23', 'A02'), ('C23', 'A16'), ('C23', 'A08'), ('C23', 'A14'), ('C23', 'A06'), ('C23', 'A10'), ('C23', 'A17'), ('C23', 'A11'), ('F01', 'A10'), ('F01', 'A11'), ('F03', 'A00'), ('F03', 'A06'), ('F03', 'A10'), ('F03', 'A17'), ('F03', 'A11')])"
      ]
     },
     "execution_count": 24,
     "metadata": {},
     "output_type": "execute_result"
    }
   ],
   "source": [
    "for _, row in autisms.iterrows():\n",
    "    for c in row['diseaseClass']:\n",
    "        G.add_edge(row['diseaseId'], c)\n",
    "G.edges()"
   ]
  },
  {
   "cell_type": "markdown",
   "metadata": {},
   "source": [
    "# Export"
   ]
  },
  {
   "cell_type": "code",
   "execution_count": 25,
   "metadata": {},
   "outputs": [],
   "source": [
    "nx.write_graphml_lxml(G, \"graphml/bipartite_disease_class.graphml\")"
   ]
  }
 ],
 "metadata": {
  "kernelspec": {
   "display_name": "base",
   "language": "python",
   "name": "python3"
  },
  "language_info": {
   "codemirror_mode": {
    "name": "ipython",
    "version": 3
   },
   "file_extension": ".py",
   "mimetype": "text/x-python",
   "name": "python",
   "nbconvert_exporter": "python",
   "pygments_lexer": "ipython3",
   "version": "3.11.5"
  }
 },
 "nbformat": 4,
 "nbformat_minor": 2
}
